{
 "cells": [
  {
   "cell_type": "markdown",
   "id": "exotic-condition",
   "metadata": {},
   "source": [
    "# TinyMS LeNet5 Client Tutorial\n",
    "\n",
    "### In this tutorial, sending an inference request using TinyMS API to a LeNet5 server and getting the result will be demonstrated. Please make sure you lauched a LeNet5 server first, you can refer to `LeNet5_Server_tutorial.ipynb`.\n",
    "\n",
    "\n",
    "## Steps\n",
    "\n",
    "### 1. Upload the pic\n",
    "\n",
    "In this tutorial, a LeNet5 model trained with MNIST dataset is hosted in the backend. And a picture of a single digit number is required to be the input. If using terminal, either `scp` or `wget` will do, if running in Jupyter, click `Upload` button at the top right and select the picture. The picture we use in this tutorial can be found [here](https://3qeqpr26caki16dnhd19sv6by6v-wpengine.netdna-ssl.com/wp-content/uploads/2019/02/sample_image.png).\n",
    "\n",
    "Save the picture to the root folder, and rename it to `7.png` (or any other name you like).\n",
    "\n",
    "\n",
    "### 2. List servables\n",
    "\n",
    "Now, we can use `list_servables` function to check what model is servable right now."
   ]
  },
  {
   "cell_type": "code",
   "execution_count": null,
   "id": "annoying-restoration",
   "metadata": {},
   "outputs": [],
   "source": [
    "from tinyms.serving import *\n",
    "\n",
    "list_servables()"
   ]
  },
  {
   "cell_type": "markdown",
   "id": "coastal-reference",
   "metadata": {},
   "source": [
    "If the output `description` shows it is a lenet5 model, then we can continue to next step to send our request."
   ]
  },
  {
   "cell_type": "markdown",
   "id": "lasting-operations",
   "metadata": {},
   "source": [
    "### 3. Sending request and get the result\n",
    "\n",
    "Run `predict` function to send the request:"
   ]
  },
  {
   "cell_type": "code",
   "execution_count": null,
   "id": "divine-prototype",
   "metadata": {},
   "outputs": [],
   "source": [
    "# predict(image_path, servable_name, dataset='mnist')\n",
    "predict('/root/7.png','lenet5')"
   ]
  },
  {
   "cell_type": "markdown",
   "id": "unauthorized-ranch",
   "metadata": {},
   "source": [
    "If you can see the output something similar to this:  \n",
    "`{'data': '[[-58.85805892944336, -237.41683959960938, 223.19223022460938, 267.44830322265625, -284.8309326171875, -277.94549560546875, -415.5260009765625, 660.13232421875, 22.17552375793457, 240.52008056640625]]', 'shape': [1, 10]}`  \n",
    "that means you successfully predict a number"
   ]
  }
 ],
 "metadata": {
  "kernelspec": {
   "display_name": "Python 3",
   "language": "python",
   "name": "python3"
  },
  "language_info": {
   "codemirror_mode": {
    "name": "ipython",
    "version": 3
   },
   "file_extension": ".py",
   "mimetype": "text/x-python",
   "name": "python",
   "nbconvert_exporter": "python",
   "pygments_lexer": "ipython3",
   "version": "3.7.5"
  }
 },
 "nbformat": 4,
 "nbformat_minor": 5
}
