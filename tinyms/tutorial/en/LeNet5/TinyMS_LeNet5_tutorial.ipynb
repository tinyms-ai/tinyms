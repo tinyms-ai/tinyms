{
 "cells": [
  {
   "cell_type": "markdown",
   "id": "affecting-convenience",
   "metadata": {},
   "source": [
    "# TinyMS LeNet5 Tutorial\n",
    "\n",
    "In this tutorial, constructing a LeNet5 model, downloading dataset, training, starting the server and making predictions of the model using TinyMS API will be demonstrated. \n",
    "\n",
    "## Prerequisite\n",
    " - Ubuntu: `18.04`\n",
    " - Python: `3.7.x`\n",
    " - Flask: `1.1.2`\n",
    " - MindSpore: `CPU-1.1.1`\n",
    " - TinyMS: `0.1.0`\n",
    " - numpy: `1.17.5`\n",
    " - opencv-python: `4.5.1.48`\n",
    " - Pillow: `8.1.0`\n",
    " - pip: `21.0.1`\n",
    " - requests: `2.18.4`\n",
    " \n",
    "## Introduction\n",
    "\n",
    "TinyMS is a high-level API which is designed for amateur of deep learning. It minimizes the number of actions of users required to construct, train, evaluate and serve a model. TinyMS also provides tutorials and documentations for developers. \n",
    "\n",
    "This tutorial consists of six parts, `constructing the model`, `downloading dataset`, `training`, `define servable json`, `starting server` and `making predictions` in which the server will be run in a sub process."
   ]
  },
  {
   "cell_type": "code",
   "execution_count": 1,
   "id": "phantom-mills",
   "metadata": {},
   "outputs": [
    {
     "name": "stderr",
     "output_type": "stream",
     "text": [
      "[WARNING] ME(30741:140664564815680,MainProcess):2021-03-16-17:16:04.142.558 [mindspore/ops/operations/array_ops.py:2302] WARN_DEPRECATED: The usage of Pack is deprecated. Please use Stack.\n"
     ]
    },
    {
     "name": "stdout",
     "output_type": "stream",
     "text": [
      "WARNING: 'ControlDepend' is deprecated from version 1.1 and will be removed in a future version, use 'Depend' instead.\n"
     ]
    }
   ],
   "source": [
    "import os\n",
    "import json\n",
    "import tinyms as ts\n",
    "import tinyms.optimizers as opt\n",
    "from PIL import Image\n",
    "from tinyms.data import MnistDataset, download_dataset\n",
    "from tinyms.vision import mnist_transform\n",
    "from tinyms.model import Model, lenet5\n",
    "from tinyms.serving import start_server, predict, list_servables, shutdown, server_started\n",
    "from tinyms.metrics import Accuracy\n",
    "from tinyms.losses import SoftmaxCrossEntropyWithLogits"
   ]
  },
  {
   "cell_type": "markdown",
   "id": "aggressive-medline",
   "metadata": {},
   "source": [
    "### 1. Construct the model\n",
    "\n",
    "TinyMS encapsulates init and construct of the LeNet5 model, the line of the code is reduced to construct the LeNet5 model:"
   ]
  },
  {
   "cell_type": "code",
   "execution_count": 2,
   "id": "matched-explanation",
   "metadata": {},
   "outputs": [],
   "source": [
    "net = lenet5(class_num=10)"
   ]
  },
  {
   "cell_type": "markdown",
   "id": "guided-activation",
   "metadata": {},
   "source": [
    "### 2. Download dataset\n",
    "\n",
    "The MNIST dataset will be downloaded if `mnist` folder didn't exist at the root. If `mnist` folder already exists, this step will not be performed."
   ]
  },
  {
   "cell_type": "code",
   "execution_count": 3,
   "id": "laden-slovakia",
   "metadata": {},
   "outputs": [
    {
     "name": "stdout",
     "output_type": "stream",
     "text": [
      "************Dataset already exists.**************\n"
     ]
    }
   ],
   "source": [
    "# download the dataset\n",
    "mnist_path = '/root/mnist'\n",
    "if not os.path.exists(mnist_path):\n",
    "    ts.data.download_dataset('mnist', '/root')\n",
    "    print('************Download complete*************')\n",
    "else:\n",
    "    print('************Dataset already exists.**************')"
   ]
  },
  {
   "cell_type": "markdown",
   "id": "regulated-bradford",
   "metadata": {},
   "source": [
    "### 3. Train the model & evaluation\n",
    "\n",
    "The dataset for both training and evaluation will be defined here, and the parameters for training also set in this block. A trained ckpt file will be saved to `/etc/tinyms/serving/lenet5` folder for later use, meanwhile the evaluation will be performed and the `Accuracy` can be checked"
   ]
  },
  {
   "cell_type": "code",
   "execution_count": 4,
   "id": "bearing-showcase",
   "metadata": {},
   "outputs": [
    {
     "name": "stderr",
     "output_type": "stream",
     "text": [
      "[WARNING] ME(30741:140664564815680,MainProcess):2021-03-16-17:16:08.675.35 [mindspore/train/model.py:387] The CPU cannot support dataset sink mode currently.So the training process will be performed with dataset not sink.\n"
     ]
    },
    {
     "name": "stdout",
     "output_type": "stream",
     "text": [
      "lenet5 ckpt folder already exists\n",
      "************************Start training*************************\n"
     ]
    },
    {
     "name": "stderr",
     "output_type": "stream",
     "text": [
      "[WARNING] ME(30741:140664564815680,MainProcess):2021-03-16-17:17:48.425.034 [mindspore/train/model.py:712] CPU cannot support dataset sink mode currently.So the evaluating process will be performed with dataset non-sink mode.\n"
     ]
    },
    {
     "name": "stdout",
     "output_type": "stream",
     "text": [
      "************************Finished training*************************\n",
      "************************Start evaluation*************************\n"
     ]
    },
    {
     "data": {
      "text/plain": [
       "{'Accuracy': 0.9848758012820513}"
      ]
     },
     "execution_count": 4,
     "metadata": {},
     "output_type": "execute_result"
    }
   ],
   "source": [
    "# check lenet folder exists or not\n",
    "ckpt_folder = '/etc/tinyms/serving/lenet5'\n",
    "ckpt_path = '/etc/tinyms/serving/lenet5/lenet5.ckpt'\n",
    "if not os.path.exists(ckpt_folder):\n",
    "    !mkdir -p  /etc/tinyms/serving/lenet5\n",
    "else:\n",
    "    print('lenet5 ckpt folder already exists')\n",
    "\n",
    "# define the training and evaluation dataset\n",
    "batch_size = 32\n",
    "train_dataset = MnistDataset(os.path.join(mnist_path, \"train\"), shuffle=True)\n",
    "train_dataset = mnist_transform.apply_ds(train_dataset)\n",
    "eval_dataset = MnistDataset(os.path.join(mnist_path, \"test\"), shuffle=True)\n",
    "eval_dataset = mnist_transform.apply_ds(eval_dataset)\n",
    "\n",
    "# parameters for training\n",
    "lr = 0.01\n",
    "momentum = 0.9\n",
    "epoch_size = 3\n",
    "net_loss = SoftmaxCrossEntropyWithLogits(sparse=True, reduction='mean')\n",
    "net_opt = opt.Momentum(net.trainable_params(), lr, momentum)\n",
    "net_metrics={\"Accuracy\": Accuracy()}\n",
    "\n",
    "model = Model(net)\n",
    "model.compile(loss_fn=net_loss, optimizer=net_opt, metrics=net_metrics)\n",
    "print('************************Start training*************************')\n",
    "model.train(epoch_size, train_dataset)\n",
    "model.save_checkpoint(ckpt_path)\n",
    "print('************************Finished training*************************')\n",
    "\n",
    "model.load_checkpoint(ckpt_path)\n",
    "print('************************Start evaluation*************************')\n",
    "model.eval(eval_dataset)"
   ]
  },
  {
   "cell_type": "markdown",
   "id": "boolean-hazard",
   "metadata": {},
   "source": [
    "### 4. Define servable.json\n",
    "\n",
    "Define the lenet5 servable json file for model name, format and number of classes for serving. "
   ]
  },
  {
   "cell_type": "code",
   "execution_count": 5,
   "id": "colored-rolling",
   "metadata": {},
   "outputs": [],
   "source": [
    "servable_json = [{'name': 'lenet5', \n",
    "                  'description': 'This servable hosts a lenet5 model predicting numbers', \n",
    "                  'model': {\n",
    "                      \"name\": \"lenet5\", \n",
    "                      \"format\": \"ckpt\", \n",
    "                      \"class_num\": 10}}]\n",
    "os.chdir(\"/etc/tinyms/serving\")\n",
    "json_data = json.dumps(servable_json, indent=4)\n",
    "\n",
    "with open('servable.json', 'w') as json_file:\n",
    "    json_file.write(json_data)"
   ]
  },
  {
   "cell_type": "markdown",
   "id": "sustained-matthew",
   "metadata": {},
   "source": [
    "### 5. Start server\n",
    "\n",
    "#### 5.1 Introduction\n",
    "TinyMS Serving is a C/S(client/server) structure. TinyMS using [Flask](https://flask.palletsprojects.com/en/1.1.x/) which is a micro web framework written in python as the C/S communication tool. In order to serve a model, user must start server first. If successfully started, the server will be run in a subprocess and listening to POST requests from 127.0.0.1 port 5000 sent by client and handle the requests using MindSpore backend which constructs the model, run the prediction and send the result back to the client.\n",
    "\n",
    "#### 5.2 Start server\n",
    "\n",
    "Run the following code block to start the server:"
   ]
  },
  {
   "cell_type": "code",
   "execution_count": 6,
   "id": "convinced-theorem",
   "metadata": {},
   "outputs": [
    {
     "name": "stdout",
     "output_type": "stream",
     "text": [
      "Server starts at host 127.0.0.1, port 5000\n"
     ]
    }
   ],
   "source": [
    "start_server()"
   ]
  },
  {
   "cell_type": "markdown",
   "id": "greenhouse-dutch",
   "metadata": {},
   "source": [
    "### 6. Make predictions\n",
    "\n",
    "#### 6.1 Upload the pic\n",
    "\n",
    "A picture of a single digit number is required to be the input. The picture we use in this tutorial can be found [HERE](https://ascend-tutorials.obs.cn-north-4.myhuaweicloud.com/tinyms-test-pics/numbers/7.png), then save the picture to the root folder, and rename it to `7.png` (or any other name you like).\n",
    "\n",
    "Or run the following code to download the pic for this tutorial:"
   ]
  },
  {
   "cell_type": "code",
   "execution_count": 7,
   "id": "consistent-particular",
   "metadata": {},
   "outputs": [
    {
     "name": "stdout",
     "output_type": "stream",
     "text": [
      "--2021-03-16 17:17:54--  https://ascend-tutorials.obs.cn-north-4.myhuaweicloud.com/tinyms-test-pics/numbers/7.png\n",
      "Resolving ascend-tutorials.obs.cn-north-4.myhuaweicloud.com (ascend-tutorials.obs.cn-north-4.myhuaweicloud.com)... 49.4.112.113, 49.4.112.90, 121.36.121.44, ...\n",
      "Connecting to ascend-tutorials.obs.cn-north-4.myhuaweicloud.com (ascend-tutorials.obs.cn-north-4.myhuaweicloud.com)|49.4.112.113|:443... connected.\n",
      "HTTP request sent, awaiting response... 200 OK\n",
      "Length: 34970 (34K) [image/png]\n",
      "Saving to: ‘/root/7.png’\n",
      "\n",
      "7.png               100%[===================>]  34.15K  --.-KB/s    in 0.06s   \n",
      "\n",
      "2021-03-16 17:17:55 (539 KB/s) - ‘/root/7.png’ saved [34970/34970]\n",
      "\n"
     ]
    }
   ],
   "source": [
    "if not os.path.exists('/root/7.png'):\n",
    "    !wget -P /root/ https://ascend-tutorials.obs.cn-north-4.myhuaweicloud.com/tinyms-test-pics/numbers/7.png\n",
    "else:\n",
    "    print('7.png already exists')"
   ]
  },
  {
   "cell_type": "markdown",
   "id": "rough-focus",
   "metadata": {},
   "source": [
    "#### 6.2 List servables\n",
    "\n",
    "Use `list_servables` function to check what model is being served right now."
   ]
  },
  {
   "cell_type": "code",
   "execution_count": 8,
   "id": "recreational-scale",
   "metadata": {},
   "outputs": [
    {
     "data": {
      "text/plain": [
       "[{'description': 'This servable hosts a lenet5 model predicting numbers',\n",
       "  'model': {'class_num': 10, 'format': 'ckpt', 'name': 'lenet5'},\n",
       "  'name': 'lenet5'}]"
      ]
     },
     "execution_count": 8,
     "metadata": {},
     "output_type": "execute_result"
    }
   ],
   "source": [
    "list_servables()"
   ]
  },
  {
   "cell_type": "markdown",
   "id": "careful-consolidation",
   "metadata": {},
   "source": [
    "If the output `description` shows it is a `lenet5` model, then we can continue to next step to send our request."
   ]
  },
  {
   "cell_type": "markdown",
   "id": "casual-recording",
   "metadata": {},
   "source": [
    "#### 6.3 Sending request and get the result\n",
    "\n",
    "Run `predict` function to send the request, select between `TOP1_CLASS` and `TOP5_CLASS`:"
   ]
  },
  {
   "cell_type": "code",
   "execution_count": 9,
   "id": "listed-reaction",
   "metadata": {},
   "outputs": [
    {
     "data": {
      "image/png": "[encoded data removed]",
      "text/plain": [
       "<PIL.Image.Image image mode=P size=300x300 at 0x7FEEB475BE90>"
      ]
     },
     "metadata": {},
     "output_type": "display_data"
    },
    {
     "name": "stdout",
     "output_type": "stream",
     "text": [
      "TOP1: 7, score: 0.99917030334472656250\n"
     ]
    }
   ],
   "source": [
    "image_path = \"/root/7.png\"\n",
    "strategy = \"TOP1_CLASS\"\n",
    "\n",
    "# predict(image_path, servable_name, dataset='mnist', strategy='TOP1_CLASS')\n",
    "if server_started() is True:\n",
    "    display(Image.open(image_path).resize((300, 300), Image.ANTIALIAS))\n",
    "    print(predict(image_path, 'lenet5', 'mnist', strategy))\n",
    "else:\n",
    "    print(\"Server not started\")"
   ]
  },
  {
   "cell_type": "markdown",
   "id": "designing-withdrawal",
   "metadata": {},
   "source": [
    "If user can see the output similar to this:  \n",
    "```\n",
    "TOP1: 7, score: 0.99934917688369750977\n",
    "```\n",
    "that means the prediction is successfully performed"
   ]
  },
  {
   "cell_type": "markdown",
   "id": "crucial-chick",
   "metadata": {},
   "source": [
    "## Shutdown server"
   ]
  },
  {
   "cell_type": "code",
   "execution_count": 10,
   "id": "hybrid-jacob",
   "metadata": {},
   "outputs": [
    {
     "data": {
      "text/plain": [
       "'Server shutting down...'"
      ]
     },
     "execution_count": 10,
     "metadata": {},
     "output_type": "execute_result"
    }
   ],
   "source": [
    "shutdown()"
   ]
  }
 ],
 "metadata": {
  "kernelspec": {
   "display_name": "Python 3",
   "language": "python",
   "name": "python3"
  },
  "language_info": {
   "codemirror_mode": {
    "name": "ipython",
    "version": 3
   },
   "file_extension": ".py",
   "mimetype": "text/x-python",
   "name": "python",
   "nbconvert_exporter": "python",
   "pygments_lexer": "ipython3",
   "version": "3.7.5"
  }
 },
 "nbformat": 4,
 "nbformat_minor": 5
}
