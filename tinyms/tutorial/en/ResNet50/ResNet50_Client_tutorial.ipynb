{
 "cells": [
  {
   "cell_type": "markdown",
   "id": "coral-university",
   "metadata": {},
   "source": [
    "# TinyMS ResNet50 Client tutoial\n",
    "\n",
    "### In this tutorial, sending an inference request to a ResNet50 server using TinyMS API and getting the result will be demonstrated. Make sure you launched the ResNet50 server first, refer to `ResNet50_Server_tutorial.ipynb` file.\n",
    "\n",
    "\n",
    "## Steps\n",
    "\n",
    "### 1. Upload the pic\n",
    "\n",
    "A ResNet50 model is already hosted in the server backend, and a picture is required to be the input. The `resnet_imagenet` ckpt requires a mushroom picture, and the `resnet_cifar` ckpt requires a picture of `['airplane', 'automobile', 'bird', 'cat', 'deer', 'dog', 'frog', 'horse', 'ship', 'truck']`. Click [mushroom](http://5b0988e595225.cdn.sohucs.com/images/20180615/cb4b7f551e6e4bbaa99ae7e4c0e6f6a3.jpeg) which is used in this tutorial for `resnet_imagenet` and [airplane](https://www.in-vendita.it/sh-img/US_Navy_051105-F-5480T-005_An_F-14D_Tomcat_conducts_a_mission_over_the_Persian_Gulf-region_f14%2Btomcat.jpg) for `resnet-cifar`. Upload the pic, if using terminal, either `scp` or `wget` will do, if running in Jupyter, click `Upload` button at the top right and select the picture. \n",
    "\n",
    "Save the picture at the root folder, rename to `mushroom.jpeg`(for resnet-imagenet) or `airplane.jpg`(for resnet-cifar).\n",
    "\n",
    "### 2. List servables\n",
    "\n",
    "Now, we can use `list_servables` function to check what model is servable right now."
   ]
  },
  {
   "cell_type": "code",
   "execution_count": null,
   "id": "brilliant-nashville",
   "metadata": {},
   "outputs": [],
   "source": [
    "from tinyms.serving import list_servables, predict\n",
    "\n",
    "list_servables()"
   ]
  },
  {
   "cell_type": "markdown",
   "id": "lasting-david",
   "metadata": {},
   "source": [
    "If the output `description` shows it is a `resnet50_imagenet2012` model, then we can continue to next step to send our request. Else if the output `description` shows it is a `resnet50_cifar10` model, replace the following code block with the example code at the bottom."
   ]
  },
  {
   "cell_type": "markdown",
   "id": "compact-springer",
   "metadata": {},
   "source": [
    "### 3. Sending request and get the result\n",
    "\n",
    "Run `predict` function to send the request:"
   ]
  },
  {
   "cell_type": "code",
   "execution_count": null,
   "id": "casual-translator",
   "metadata": {},
   "outputs": [],
   "source": [
    "# predict(image_path, servable_name, dataset_name): image path, servable name and dataset name\n",
    "\n",
    "predict(\"/root/mushroom.jpeg\", \"resnet50_imagenet2012\", \"imagenet2012\")"
   ]
  },
  {
   "cell_type": "markdown",
   "id": "actual-space",
   "metadata": {},
   "source": [
    "If user wants to try `resnet_cifar`, replace the above code to:\n",
    "```\n",
    "predict(\"/root/airplane.jpg\", \"resnet50_cifar10\", \"cifar10\")\n",
    "```"
   ]
  },
  {
   "cell_type": "markdown",
   "id": "colonial-allowance",
   "metadata": {},
   "source": [
    "### 4. Check output\n",
    "\n",
    "If user runs `resnet_imagenet` and see output similar to this:\n",
    "```\n",
    "Prediction is: Amanita毒蝇伞,伞菌目,鹅膏菌科,鹅膏菌属,主要分布于我国黑龙江、吉林、四川、西藏、云南等地,有毒\n",
    "```\n",
    "that means the prediction result is returned and the inference is completed.\n",
    "\n",
    "Or user runs `resnet_cifar`, and the output is expected to be like this:\n",
    "```\n",
    "Prediction is: airplane\n",
    "```"
   ]
  }
 ],
 "metadata": {
  "kernelspec": {
   "display_name": "Python 3",
   "language": "python",
   "name": "python3"
  },
  "language_info": {
   "codemirror_mode": {
    "name": "ipython",
    "version": 3
   },
   "file_extension": ".py",
   "mimetype": "text/x-python",
   "name": "python",
   "nbconvert_exporter": "python",
   "pygments_lexer": "ipython3",
   "version": "3.7.5"
  }
 },
 "nbformat": 4,
 "nbformat_minor": 5
}
