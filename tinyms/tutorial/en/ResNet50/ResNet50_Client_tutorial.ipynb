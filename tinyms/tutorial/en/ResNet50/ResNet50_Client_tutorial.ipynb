{
 "cells": [
  {
   "cell_type": "markdown",
   "id": "coral-university",
   "metadata": {},
   "source": [
    "# TinyMS ResNet50 Client tutoial\n",
    "\n",
    "### In this tutorial, sending an inference request to a ResNet50 server using TinyMS API and getting the result will be demonstrated. Make sure you launched the ResNet50 server first, refer to `ResNet50_Server_tutorial.ipynb` file.\n",
    "\n",
    "\n",
    "## Steps\n",
    "\n",
    "### 1. Upload the pic\n",
    "\n",
    "In this tutorial, a ResNet50 model trained with imagenet2012 dataset is hosted in the backend. And a picture of mushroom is required to be the input. If using terminal, either `scp` or `wget` will do, if running in Jupyter, click `Upload` button at the top right and select the mushroom picture. The mushroom picture we use in this tutorial can be found [here](http://5b0988e595225.cdn.sohucs.com/images/20180615/cb4b7f551e6e4bbaa99ae7e4c0e6f6a3.jpeg).\n",
    "\n",
    "Save the picture at the root folder, rename to `mushroom.jpeg`.\n",
    "\n",
    "### 2. List servables\n",
    "\n",
    "Now, we can use `list_servables` function to check what model is servable right now."
   ]
  },
  {
   "cell_type": "code",
   "execution_count": null,
   "id": "brilliant-nashville",
   "metadata": {},
   "outputs": [],
   "source": [
    "from tinyms.serving import *\n",
    "\n",
    "list_servables()"
   ]
  },
  {
   "cell_type": "markdown",
   "id": "lasting-david",
   "metadata": {},
   "source": [
    "If the output `description` shows it is a resnet50 model, then we can continue to next step to send our request."
   ]
  },
  {
   "cell_type": "markdown",
   "id": "compact-springer",
   "metadata": {},
   "source": [
    "### 3. Sending request and get the result\n",
    "\n",
    "Run `predict` function to send the request:"
   ]
  },
  {
   "cell_type": "code",
   "execution_count": null,
   "id": "casual-translator",
   "metadata": {},
   "outputs": [],
   "source": [
    "# predict(image_path, servable_name, dataset_name): image path, servable name and dataset name\n",
    "\n",
    "predict(\"/root/mushroom.jpeg\", \"resnet50\", \"imagenet2012\")"
   ]
  },
  {
   "cell_type": "markdown",
   "id": "colonial-allowance",
   "metadata": {},
   "source": [
    "If you can see something similar to this:\n",
    "```\n",
    "{'data': '[[1078.947998046875, 338.18646240234375, -1359.9251708984375, -956.5706787109375, 966.1157836914062, 801.5195922851562, 901.9326171875, -1127.0374755859375, -643.1640014648438]]', 'shape': [1, 9]}\n",
    "```\n",
    "that means the prediction result is returned and the inference is completed."
   ]
  }
 ],
 "metadata": {
  "kernelspec": {
   "display_name": "Python 3",
   "language": "python",
   "name": "python3"
  },
  "language_info": {
   "codemirror_mode": {
    "name": "ipython",
    "version": 3
   },
   "file_extension": ".py",
   "mimetype": "text/x-python",
   "name": "python",
   "nbconvert_exporter": "python",
   "pygments_lexer": "ipython3",
   "version": "3.7.5"
  }
 },
 "nbformat": 4,
 "nbformat_minor": 5
}
