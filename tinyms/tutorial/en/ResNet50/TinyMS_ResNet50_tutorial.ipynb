{
 "cells": [
  {
   "cell_type": "markdown",
   "id": "mighty-private",
   "metadata": {},
   "source": [
    "# TinyMS ResNet50 Tutorial\n",
    "\n",
    "### In this tutorial, starting a ResNet50 inference server and making predicts using TinyMS API will be demonstrated. \n",
    "\n",
    "## Prerequisite\n",
    " - Ubuntu: `18.04`\n",
    " - Python: `3.7.x`\n",
    " - Flask: `1.1.2`\n",
    " - MindSpore: `CPU-1.1.1`\n",
    " - TinyMS: `0.1.0`\n",
    " - numpy: `1.17.5`\n",
    " - opencv-python: `4.5.1.48`\n",
    " - Pillow: `8.1.0`\n",
    " - pip: `21.0.1`\n",
    " - requests: `2.18.4`\n",
    " \n",
    "## Introduction\n",
    "\n",
    "TinyMS is a high-level API which is designed for amateur of deep learning. It minimizes the number of actions of users required to construct, train, evaluate and serve a model. TinyMS also provides tutorials and documentations for developers. \n",
    "\n",
    "In this tutorial, the ckpt files will be provided since training ResNet50 on CPU is time consuming, so there are four steps to start a server and making predicts: `get the ckpt files`, `define servable json`, `start the server` and `making predicts` in which the server will be started in a subprocess."
   ]
  },
  {
   "cell_type": "code",
   "execution_count": null,
   "id": "coral-pressing",
   "metadata": {},
   "outputs": [],
   "source": [
    "import os\n",
    "import json\n",
    "from PIL import Image\n",
    "from tinyms.serving import start_server, predict, list_servables, shutdown, server_started"
   ]
  },
  {
   "cell_type": "markdown",
   "id": "funded-offering",
   "metadata": {},
   "source": [
    "## Steps\n",
    "\n",
    "### 1. Get the ckpt file\n",
    "\n",
    "In this tutorial, we provide two resnet50 checkpoint file, one is trained with [ImageNet2012](http://www.image-net.org/challenges/LSVRC/2012/) dataset, another is trained with [cifar10](http://www.cs.toronto.edu/~kriz/cifar.html) dataset. A ResNet50 ckpt file is required for the backend to run the prediction. We recommend downloading our pretrained checkpoint files, click [resnet_imagenet](https://ascend-tutorials.obs.cn-north-4.myhuaweicloud.com/resnet-50/ckpt_files/imagenet2012/resnet50.ckpt) to download resnet-imagenet ckpt file and [resnet_cifar](https://ascend-tutorials.obs.cn-north-4.myhuaweicloud.com/resnet-50/ckpt_files/cifar10/resnet50.ckpt) to download resnet-cifar ckpt file. Save this file to `/etc/tinyms/serving/resnet50_<dataset_name>/resnet50.ckpt`.\n",
    "\n",
    "### Or run the following code to download the `resnet_imagenet` and `resnet_cifar` ckpt file:"
   ]
  },
  {
   "cell_type": "code",
   "execution_count": null,
   "id": "tough-labor",
   "metadata": {},
   "outputs": [],
   "source": [
    "# check lenet folder exists or not, and download resnet50_imagenet\n",
    "imagenet2012_ckpt_folder = '/etc/tinyms/serving/resnet50_imagenet2012'\n",
    "imagenet2012_ckpt_path = '/etc/tinyms/serving/resnet50_imagenet2012/resnet50.ckpt'\n",
    "if not os.path.exists(imagenet2012_ckpt_folder):\n",
    "    !mkdir -p  /etc/tinyms/serving/resnet50_imagenet2012\n",
    "    !wget -P /etc/tinyms/serving/resnet50_imagenet2012 https://ascend-tutorials.obs.cn-north-4.myhuaweicloud.com/resnet-50/ckpt_files/imagenet2012/resnet50.ckpt\n",
    "else:\n",
    "    print('imagenet2012_ckpt_folder already exists')\n",
    "    if not os.path.exists(imagenet2012_ckpt_path):\n",
    "        !wget -P /etc/tinyms/serving/resnet50_imagenet2012 https://ascend-tutorials.obs.cn-north-4.myhuaweicloud.com/resnet-50/ckpt_files/imagenet2012/resnet50.ckpt   \n",
    "    else:\n",
    "        print('imagenet2012 ckpt file already exists')\n",
    "\n",
    "\n",
    "# check lenet folder exists or not\n",
    "cifar10_ckpt_folder = '/etc/tinyms/serving/resnet50_cifar10'\n",
    "cifar10_ckpt_path = '/etc/tinyms/serving/resnet50_cifar10/resnet50.ckpt'\n",
    "if not os.path.exists(cifar10_ckpt_folder):\n",
    "    !mkdir -p  /etc/tinyms/serving/resnet50_cifar10\n",
    "    !wget -P /etc/tinyms/serving/resnet50_cifar10 https://ascend-tutorials.obs.cn-north-4.myhuaweicloud.com/resnet-50/ckpt_files/cifar10/resnet50.ckpt\n",
    "else:\n",
    "    print('cifar10_ckpt_folder already exists')\n",
    "    if not os.path.exists(cifar10_ckpt_path):\n",
    "        !wget -P /etc/tinyms/serving/resnet50_cifar10 https://ascend-tutorials.obs.cn-north-4.myhuaweicloud.com/resnet-50/ckpt_files/cifar10/resnet50.ckpt\n",
    "    else:\n",
    "        print('cifar10 ckpt file already exists')"
   ]
  },
  {
   "cell_type": "markdown",
   "id": "conditional-witness",
   "metadata": {},
   "source": [
    "### 2. Define servable.json \n",
    "\n",
    "###  Choose only one of the following two code blocks to define the servable json file which will be used later\n",
    "\n",
    "Run this code to define the servable json file for `ResNet50_imagenet2012` model:"
   ]
  },
  {
   "cell_type": "code",
   "execution_count": null,
   "id": "great-robertson",
   "metadata": {},
   "outputs": [],
   "source": [
    "servable_json = [{'name': 'resnet50_imagenet2012', \n",
    "                  'description': 'This servable hosts a resnet50 model predicting mushrooms', \n",
    "                  'model': {\n",
    "                      \"name\": \"resnet50\", \n",
    "                      \"format\": \"ckpt\", \n",
    "                      \"class_num\": 9}}]\n",
    "os.chdir(\"/etc/tinyms/serving\")\n",
    "json_data = json.dumps(servable_json, indent=4)\n",
    "\n",
    "with open('servable.json', 'w') as json_file:\n",
    "    json_file.write(json_data)"
   ]
  },
  {
   "cell_type": "markdown",
   "id": "continuing-twelve",
   "metadata": {},
   "source": [
    "Or run this code to define the servable json file for `ResNet50_cifar10` model:"
   ]
  },
  {
   "cell_type": "code",
   "execution_count": null,
   "id": "tropical-quebec",
   "metadata": {},
   "outputs": [],
   "source": [
    "servable_json = [{'name': 'resnet50_cifar10', \n",
    "                  'description': 'This servable hosts a resnet50 model predicting 10 classes of objects', \n",
    "                  'model': {\n",
    "                      \"name\": \"resnet50\", \n",
    "                      \"format\": \"ckpt\", \n",
    "                      \"class_num\": 10}}]\n",
    "os.chdir(\"/etc/tinyms/serving\")\n",
    "json_data = json.dumps(servable_json, indent=4)\n",
    "\n",
    "with open('servable.json', 'w') as json_file:\n",
    "    json_file.write(json_data)"
   ]
  },
  {
   "cell_type": "markdown",
   "id": "magnetic-minnesota",
   "metadata": {},
   "source": [
    "### 3. Start server\n",
    "\n",
    "#### 3.1 Introduction\n",
    "TinyMS Serving is a C/S(client/server) structure. There is a server and client. TinyMS using [Flask](https://flask.palletsprojects.com/en/1.1.x/) which is a micro web framework written in python as the C/S communication tool. In order to serve a model, user must start server first. If successfully started, the server will be run in a subprocess and listening to POST requests from 127.0.0.1 port 5000 sent by client and handle the requests using MindSpore backend which will construct the model, run the prediction and send the result back to the client.  \n",
    "\n",
    "#### 3.2 start server\n",
    "Run the following code block to start the server:"
   ]
  },
  {
   "cell_type": "code",
   "execution_count": null,
   "id": "joined-taxation",
   "metadata": {},
   "outputs": [],
   "source": [
    "start_server()"
   ]
  },
  {
   "cell_type": "markdown",
   "id": "entertaining-blair",
   "metadata": {},
   "source": [
    "### 4. Make predictions\n",
    "\n",
    "#### 4.1 Upload the pic\n",
    "\n",
    "A picture is required to be the input. The `resnet_imagenet` ckpt requires a mushroom picture, while the `resnet_cifar` ckpt requires a picture of \n",
    "```\n",
    "['airplane', 'automobile', 'bird', 'cat', 'deer', 'dog', 'frog', 'horse', 'ship', 'truck']\n",
    "```\n",
    "Click [mushroom](https://ascend-tutorials.obs.cn-north-4.myhuaweicloud.com/tinyms-test-pics/mushrooms/mushroom.jpeg) which is used in this tutorial for `resnet_imagenet` and [airplane](https://ascend-tutorials.obs.cn-north-4.myhuaweicloud.com/tinyms-test-pics/objects/airplane.jpg) for `resnet-cifar`. Upload the pic, if using terminal, either `scp` or `wget` will do, if running in Jupyter, click `Upload` button at the top right and select the picture. Save the picture at the root folder, rename to `mushroom.jpeg`(for resnet-imagenet) or `airplane.jpg`(for resnet-cifar).\n",
    "\n",
    "### Or run this code to download `mushroom` pic for `resnet_imagenet`  and `airplane` for `resnet_cifar`:"
   ]
  },
  {
   "cell_type": "code",
   "execution_count": null,
   "id": "inside-activity",
   "metadata": {},
   "outputs": [],
   "source": [
    "# download mushroom pic\n",
    "if not os.path.exists('/root/mushroom.jpeg'):\n",
    "    !wget -P /root/ https://ascend-tutorials.obs.cn-north-4.myhuaweicloud.com/tinyms-test-pics/mushrooms/mushroom.jpeg\n",
    "else:\n",
    "    print('mushroom.jpeg already exists')\n",
    "\n",
    "# download airplane pic\n",
    "if not os.path.exists('/root/airplane.jpg'):\n",
    "    !wget -P /root/ https://ascend-tutorials.obs.cn-north-4.myhuaweicloud.com/tinyms-test-pics/objects/airplane.jpg\n",
    "else:\n",
    "    print('airplane.jpg already exists')"
   ]
  },
  {
   "cell_type": "markdown",
   "id": "removable-blowing",
   "metadata": {},
   "source": [
    "####  4.2 List servables\n",
    "\n",
    "Now, use `list_servables` function to check what model is servable right now."
   ]
  },
  {
   "cell_type": "code",
   "execution_count": null,
   "id": "coordinated-crest",
   "metadata": {},
   "outputs": [],
   "source": [
    "list_servables()"
   ]
  },
  {
   "cell_type": "markdown",
   "id": "optical-viewer",
   "metadata": {},
   "source": [
    "If the output description shows it is a `resnet50` model, run the following code which will automatically detect whether it is a imagenet model or a cifar model"
   ]
  },
  {
   "cell_type": "markdown",
   "id": "abandoned-maryland",
   "metadata": {},
   "source": [
    "#### 4.3 Sending request and get the result\n",
    "\n",
    "Run `predict` function to send the request, select between `TOP1_CLASS` and `TOP5_CLASS` to check the output"
   ]
  },
  {
   "cell_type": "code",
   "execution_count": null,
   "id": "golden-serial",
   "metadata": {},
   "outputs": [],
   "source": [
    "# set image_path and output strategy\n",
    "imagenet_image_path = \"/root/mushroom.jpeg\"\n",
    "cifar_image_path = \"/root/airplane.jpg\"\n",
    "strategy = \"TOP1_CLASS\"\n",
    "\n",
    "# predict(image_path, servable_name, dataset_name, strategy='TOP1_CLASS')\n",
    "if server_started() is True:\n",
    "    servable_name = list_servables()[0]['name']\n",
    "    if servable_name == 'resnet50_imagenet2012':\n",
    "        display(Image.open(imagenet_image_path).resize((800, 600), Image.ANTIALIAS))\n",
    "        print(predict(imagenet_image_path, \"resnet50_imagenet2012\", \"imagenet2012\", strategy))\n",
    "    else:\n",
    "        display(Image.open(cifar_image_path).resize((800, 600), Image.ANTIALIAS))\n",
    "        print(predict(cifar_image_path, \"resnet50_cifar10\", 'cifar10', strategy))\n",
    "else:\n",
    "    print('Server not started')"
   ]
  },
  {
   "cell_type": "markdown",
   "id": "strategic-layer",
   "metadata": {},
   "source": [
    "## Check output\n",
    "\n",
    "If user runs `resnet_imagenet` and see output similar to this:\n",
    "```\n",
    "TOP1: Amanita毒蝇伞,伞菌目,鹅膏菌科,鹅膏菌属,主要分布于我国黑龙江、吉林、四川、西藏、云南等地,有毒, score: 0.99119007587432861328\n",
    "```\n",
    "that means the prediction result is returned and the inference is completed.\n",
    "\n",
    "Or user runs `resnet_cifar`, and the output is expected to be like this:\n",
    "```\n",
    "TOP1: airplane, score: 0.99997282028198242188\n",
    "```"
   ]
  },
  {
   "cell_type": "markdown",
   "id": "invalid-thumb",
   "metadata": {},
   "source": [
    " ## Change model\n",
    " \n",
    "Run another `servable_json` code block.\n",
    " \n",
    "## Shutdown server"
   ]
  },
  {
   "cell_type": "code",
   "execution_count": null,
   "id": "hazardous-ballot",
   "metadata": {},
   "outputs": [],
   "source": [
    "shutdown()"
   ]
  }
 ],
 "metadata": {
  "kernelspec": {
   "display_name": "Python 3",
   "language": "python",
   "name": "python3"
  },
  "language_info": {
   "codemirror_mode": {
    "name": "ipython",
    "version": 3
   },
   "file_extension": ".py",
   "mimetype": "text/x-python",
   "name": "python",
   "nbconvert_exporter": "python",
   "pygments_lexer": "ipython3",
   "version": "3.7.5"
  }
 },
 "nbformat": 4,
 "nbformat_minor": 5
}
