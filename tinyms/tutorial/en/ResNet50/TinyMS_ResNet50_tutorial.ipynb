{
 "cells": [
  {
   "cell_type": "markdown",
   "id": "mighty-private",
   "metadata": {},
   "source": [
    "# TinyMS ResNet50 Tutorial\n",
    "\n",
    "### In this tutorial, starting a ResNet50 inference server and making predicts using TinyMS API will be demonstrated. \n",
    "\n",
    "## Prerequisite\n",
    " - Ubuntu: `18.04`\n",
    " - Python: `3.7.x`\n",
    " - Flask: `1.1.2`\n",
    " - MindSpore: `CPU-1.1.1`\n",
    " - TinyMS: `0.1.0`\n",
    " - numpy: `1.17.5`\n",
    " - opencv-python: `4.5.1.48`\n",
    " - Pillow: `8.1.0`\n",
    " - pip: `21.0.1`\n",
    " - requests: `2.18.4`\n",
    " \n",
    "## Introduction\n",
    "\n",
    "TinyMS is a high-level API which is designed for amateur of deep learning. It minimizes the number of actions of users required to construct, train, evaluate and serve a model. TinyMS also provides tutorials and documentations for developers. \n",
    "\n",
    "In this tutorial, the ckpt files will be provided since training ResNet50 on CPU is time consuming, so there are four steps to start a server and making predicts: `get the ckpt files`, `define servable json`, `start the server` and `making predicts` in which the server will be started in a subprocess.\n",
    "\n",
    "\n",
    "## Steps\n",
    "\n",
    "### 1. Get the ckpt file\n",
    "\n",
    "In this tutorial, we provide two resnet50 checkpoint file, one is trained with [ImageNet2012](http://www.image-net.org/challenges/LSVRC/2012/) dataset, another is trained with [cifar10](http://www.cs.toronto.edu/~kriz/cifar.html) dataset. A ResNet50 ckpt file is required for the backend to run the prediction. We recommend downloading our pretrained checkpoint files, click [resnet_imagenet](https://ascend-tutorials.obs.cn-north-4.myhuaweicloud.com:443/resnet-50/ckpt_files/imagenet2012/resnet50.ckpt?AccessKeyId=HUXAJ6GDDQV6E9JLVZRG&Expires=1645083010&Signature=UmcUjCyDs/0jPRJCWu2e8xS5ooc%3D) to download resnet-imagenet ckpt file and [resnet_cifar](https://ascend-tutorials.obs.cn-north-4.myhuaweicloud.com:443/resnet-50/ckpt_files/cifar10/resnet50.ckpt?AccessKeyId=HUXAJ6GDDQV6E9JLVZRG&Expires=1645083487&Signature=XUPGdTwctaw%2Bep04W3Bo4qxQYG0%3D) to download resnet-cifar ckpt file.\n",
    "\n",
    "Save this file to `/etc/tinyms/serving/resnet50_<dataset_name>/resnet50.ckpt`.\n",
    "\n",
    "\n",
    "### 2. Define servable.json\n",
    "\n",
    "Define the ResNet50 servable json file for model name, format and number of classes for later use. In this step, we will demonstrate serving a `ResNet50_imagenet2012` model."
   ]
  },
  {
   "cell_type": "code",
   "execution_count": null,
   "id": "great-robertson",
   "metadata": {},
   "outputs": [],
   "source": [
    "import os\n",
    "import json\n",
    "import subprocess\n",
    "from tinyms.serving import start_server, predict, list_servables\n",
    "\n",
    "\n",
    "servable_json = [{'name': 'resnet50_imagenet2012', \n",
    "                  'description': 'This servable hosts a resnet50 model predicting mushrooms', \n",
    "                  'model': {\n",
    "                      \"name\": \"resnet50\", \n",
    "                      \"format\": \"ckpt\", \n",
    "                      \"class_num\": 9}}]\n",
    "os.chdir(\"/etc/tinyms/serving\")\n",
    "json_data = json.dumps(servable_json, indent=4)\n",
    "\n",
    "with open('servable.json', 'w') as json_file:\n",
    "    json_file.write(json_data)"
   ]
  },
  {
   "cell_type": "markdown",
   "id": "paperback-destination",
   "metadata": {},
   "source": [
    "If user wants to try `ResNet50_cifar`, replace `servable_json` part with following code:\n",
    "```\n",
    "servable_json = [{'name': 'resnet50_cifar10', \n",
    "                  'description': 'This servable hosts a resnet50 model predicting 10 classes of objects', \n",
    "                  'model': {\n",
    "                      \"name\": \"resnet50\", \n",
    "                      \"format\": \"ckpt\", \n",
    "                      \"class_num\": 10}}]\n",
    "```\n",
    "and make sure re-run all the steps."
   ]
  },
  {
   "cell_type": "markdown",
   "id": "magnetic-minnesota",
   "metadata": {},
   "source": [
    "### 3. Start server\n",
    "\n",
    "#### 3.1 Introduction\n",
    "TinyMS Serving is a C/S(client/server) structure. There is a server and client. TinyMS using [Flask](https://flask.palletsprojects.com/en/1.1.x/) whichi is a micro web framework written in python as the C/S communication tool. In order to serve a model, user must start server first. If successfully started, the server will be run in a subprocess and listening to POST requests from 127.0.0.1 port 5000 sent by client and handle the requests using MindSpore backend which will construct the model, run the prediction and send the result back to the client.  \n",
    "\n",
    "#### 3.2 start server\n",
    "Run the following code block to start the server:"
   ]
  },
  {
   "cell_type": "code",
   "execution_count": null,
   "id": "joined-taxation",
   "metadata": {},
   "outputs": [],
   "source": [
    "cmd = ['/bin/bash', '-C', 'python', 'from tinyms.serving import start_server', 'start_server()']\n",
    "server_process = subprocess.Popen(cmd,stdout=subprocess.PIPE,shell=True)"
   ]
  },
  {
   "cell_type": "markdown",
   "id": "entertaining-blair",
   "metadata": {},
   "source": [
    "### 4. Make predictions\n",
    "\n",
    "#### 4.1 Upload the pic\n",
    "\n",
    "A picture is required to be the input. The `resnet_imagenet` ckpt requires a mushroom picture, while the `resnet_cifar` ckpt requires a picture of `['airplane', 'automobile', 'bird', 'cat', 'deer', 'dog', 'frog', 'horse', 'ship', 'truck']`. Click [mushroom](http://5b0988e595225.cdn.sohucs.com/images/20180615/cb4b7f551e6e4bbaa99ae7e4c0e6f6a3.jpeg) which is used in this tutorial for `resnet_imagenet` and [airplane](https://www.in-vendita.it/sh-img/US_Navy_051105-F-5480T-005_An_F-14D_Tomcat_conducts_a_mission_over_the_Persian_Gulf-region_f14%2Btomcat.jpg) for `resnet-cifar`. Upload the pic, if using terminal, either `scp` or `wget` will do, if running in Jupyter, click `Upload` button at the top right and select the picture. \n",
    "\n",
    "Save the picture at the root folder, rename to `mushroom.jpeg`(for resnet-imagenet) or `airplane.jpg`(for resnet-cifar).\n",
    "\n",
    "####  4.2 List servables\n",
    "\n",
    "Now, we can use `list_servables` function to check what model is servable right now."
   ]
  },
  {
   "cell_type": "code",
   "execution_count": null,
   "id": "coordinated-crest",
   "metadata": {},
   "outputs": [],
   "source": [
    "list_servables()"
   ]
  },
  {
   "cell_type": "markdown",
   "id": "optical-viewer",
   "metadata": {},
   "source": [
    "If the output `description` shows it is a `resnet50_imagenet2012` model, then we can continue to next step to send our request. Else if the output `description` shows it is a `resnet50_cifar10` model, replace the following code block with the example code at the bottom."
   ]
  },
  {
   "cell_type": "markdown",
   "id": "abandoned-maryland",
   "metadata": {},
   "source": [
    "#### 4.3 Sending request and get the result\n",
    "\n",
    "Run `predict` function to send the request, select between `TOP1_CLASS` and `TOP5_CLASS` to check the output:"
   ]
  },
  {
   "cell_type": "code",
   "execution_count": null,
   "id": "golden-serial",
   "metadata": {},
   "outputs": [],
   "source": [
    "# predict(image_path, servable_name, dataset_name, strategy='TOP1_CLASS')\n",
    "\n",
    "predict(\"/root/mushroom.jpeg\", \"resnet50_imagenet2012\", \"imagenet2012\", \"TOP1_CLASS\")"
   ]
  },
  {
   "cell_type": "markdown",
   "id": "cellular-housing",
   "metadata": {},
   "source": [
    "If user wants to try `resnet_cifar`, replace the above code to:\n",
    "```\n",
    "predict(\"/root/airplane.jpg\", \"resnet50_cifar10\", \"cifar10\", \"TOP1_CLASS\")\n",
    "```"
   ]
  },
  {
   "cell_type": "markdown",
   "id": "strategic-layer",
   "metadata": {},
   "source": [
    "## Check output\n",
    "\n",
    "If user runs `resnet_imagenet` and see output similar to this:\n",
    "```\n",
    "{'prediction: ': 'Amanita毒蝇伞,伞菌目,鹅膏菌科,鹅膏菌属,主要分布于我国黑龙江、吉林、四川、西藏、云南等地,有毒', 'score': '0.99119007587432861328'}\n",
    "```\n",
    "that means the prediction result is returned and the inference is completed.\n",
    "\n",
    "Or user runs `resnet_cifar`, and the output is expected to be like this:\n",
    "```\n",
    "{'prediction: ': 'airplane', 'score': '0.99997282028198242188'}\n",
    "```"
   ]
  },
  {
   "cell_type": "markdown",
   "id": "invalid-thumb",
   "metadata": {},
   "source": [
    " ## Shutdown server\n",
    " \n",
    " To restart and try another checkpoint file, click `Kernel` at the top, then `Restart & Clear Output`, replace the `servable_json` code\n",
    " \n",
    " To shutdown server, if using terminal, simply CTRL + C to shutdown serving, if running in Jupyter, click `Kernel` at the top and then `Shutdown`"
   ]
  }
 ],
 "metadata": {
  "kernelspec": {
   "display_name": "Python 3",
   "language": "python",
   "name": "python3"
  },
  "language_info": {
   "codemirror_mode": {
    "name": "ipython",
    "version": 3
   },
   "file_extension": ".py",
   "mimetype": "text/x-python",
   "name": "python",
   "nbconvert_exporter": "python",
   "pygments_lexer": "ipython3",
   "version": "3.7.5"
  }
 },
 "nbformat": 4,
 "nbformat_minor": 5
}
