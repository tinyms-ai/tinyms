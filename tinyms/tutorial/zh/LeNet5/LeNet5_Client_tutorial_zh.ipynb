{
 "cells": [
  {
   "cell_type": "markdown",
   "id": "exotic-condition",
   "metadata": {},
   "source": [
    "# TinyMS LeNet5 客户端教程\n",
    "\n",
    "### 在本教程中，我们会演示使用TinyMS API发送推理请求到LeNet5的服务器并且得到推理结果的过程。在开始本教程之前，必须确保LeNet5的服务器已经启动，可以参考`LeNet5_Server_tutorial_zh.ipynb`文件。\n",
    "\n",
    "\n",
    "## 步骤\n",
    "\n",
    "### 1. 上传图片\n",
    "\n",
    "在本教程中，服务器端会运行一个由MNIST数据集训练而成的LeNet5模型。用户需要上传一张0~9之间的数字图片作为输入。如果使用命令行终端，可以使用'scp'或者'wget'获取图片，如果使用Jupyter，点击菜单右上方的'Upload'按钮并且选择上传的图片。本教程中使用的图片可以点击[这里](https://3qeqpr26caki16dnhd19sv6by6v-wpengine.netdna-ssl.com/wp-content/uploads/2019/02/sample_image.png)进行下载。\n",
    "\n",
    "将图片保存在根目录下，重命名为'7.png'（或者任何用户喜欢的名字）\n",
    "\n",
    "### 2. List servables\n",
    "\n",
    "使用`list_servables`函数检查当前后端的serving模型"
   ]
  },
  {
   "cell_type": "code",
   "execution_count": null,
   "id": "british-tract",
   "metadata": {},
   "outputs": [],
   "source": [
    "from tinyms.serving import list_servables, predict\n",
    "\n",
    "list_servables()"
   ]
  },
  {
   "cell_type": "markdown",
   "id": "cosmetic-replication",
   "metadata": {},
   "source": [
    "如果输出的`description`字段显示这是一个lenet5的模型，则可以继续到下一步发送推理请求"
   ]
  },
  {
   "cell_type": "markdown",
   "id": "federal-meter",
   "metadata": {},
   "source": [
    "### 3. 发送推理请求\n",
    "\n",
    "运行`predict`函数发送推理请求，第4个参数选择`TOP1_CLASS`或者`TOP5_CLASS`输出:"
   ]
  },
  {
   "cell_type": "code",
   "execution_count": null,
   "id": "divine-prototype",
   "metadata": {},
   "outputs": [],
   "source": [
    "# predict(image_path, servable_name, dataset='mnist', strategy='TOP1_CLASS')\n",
    "# predict方法的四个参数分别是图片路径、servable名称，数据集名称（默认MNIST）和输出策略（默认输出TOP1，可以选择TOP5）\n",
    "predict('/root/7.png','lenet5', 'mnist', 'TOP1_CLASS')"
   ]
  },
  {
   "cell_type": "markdown",
   "id": "unauthorized-ranch",
   "metadata": {},
   "source": [
    "如果用户能看到类似如下输出:  \n",
    "`{'prediction: ': 7, 'score': 0.9927391793386835}`  \n",
    "那么意味着已经进行了一次成功的推理"
   ]
  }
 ],
 "metadata": {
  "kernelspec": {
   "display_name": "Python 3",
   "language": "python",
   "name": "python3"
  },
  "language_info": {
   "codemirror_mode": {
    "name": "ipython",
    "version": 3
   },
   "file_extension": ".py",
   "mimetype": "text/x-python",
   "name": "python",
   "nbconvert_exporter": "python",
   "pygments_lexer": "ipython3",
   "version": "3.7.5"
  }
 },
 "nbformat": 4,
 "nbformat_minor": 5
}
