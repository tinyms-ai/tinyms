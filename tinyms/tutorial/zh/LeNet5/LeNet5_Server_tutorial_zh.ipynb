{
 "cells": [
  {
   "cell_type": "markdown",
   "id": "affecting-convenience",
   "metadata": {},
   "source": [
    "# TinyMS LeNet5 服务器端教程\n",
    "\n",
    "### 在本教程中，我们会演示使用TinyMS API构建LeNet模型，下载数据集，训练和启动推理服务器的过程。\n",
    "\n",
    "## 环境要求\n",
    " - Ubuntu: `18.04`\n",
    " - Python: `3.7.x`\n",
    " - Flask: `1.1.2`\n",
    " - MindSpore: `CPU-1.1.0`\n",
    " - TinyMS: `0.1.0`\n",
    " - numpy: `1.17.5`\n",
    " - opencv-python: `4.5.1.48`\n",
    " - Pillow: `8.1.0`\n",
    " - pip: `21.0.1`\n",
    " - requests: `2.18.4`\n",
    " \n",
    "## 介绍\n",
    "\n",
    "TinyMS是一个高级API，目的是让新手用户能够更加轻松地上手深度学习。TinyMS可以有效地减少用户在构建、训练、验证和推理一个模型过程中的操作次数。TinyMS也提供了教程和文档帮助开发者更好的上手和开发。\n",
    "\n",
    "本教程包括5部分，构建模型、下载数据集、训练，定义servable json和启动服务器，而进行推理操作的部分会在 `LeNet5_Client_tutorial_zh.ipynb`文件中进行讲解。"
   ]
  },
  {
   "cell_type": "code",
   "execution_count": null,
   "id": "phantom-mills",
   "metadata": {},
   "outputs": [],
   "source": [
    "import os\n",
    "import json\n",
    "import tinyms as ts\n",
    "import tinyms.optimizers as opt\n",
    "from tinyms.data import MnistDataset, download_dataset\n",
    "from tinyms.data.transforms import TypeCast\n",
    "from tinyms.vision import Inter, Resize, Rescale, HWC2CHW\n",
    "from tinyms.model import lenet5\n",
    "from tinyms.model import Model\n",
    "from tinyms.serving import *\n",
    "from tinyms.metrics import Accuracy\n",
    "from tinyms.losses import SoftmaxCrossEntropyWithLogits"
   ]
  },
  {
   "cell_type": "markdown",
   "id": "aggressive-medline",
   "metadata": {},
   "source": [
    "## 1. 构建模型\n",
    "\n",
    "TinyMS封装了MindSpore LeNet5模型中的init和construct函数，代码行数能够大大减少，原有的如下代码段会被极限地压缩到只有两行\n",
    "```\n",
    "    import mindspore.nn as nn\n",
    "\n",
    "    class LeNet5(nn.Cell):\n",
    "        def __init__(self, num_class=10, num_channel=1):\n",
    "            super(LeNet5, self).__init__()\n",
    "            self.conv1 = nn.Conv2d(num_channel, 6, 5, pad_mode='valid')\n",
    "            self.conv2 = nn.Conv2d(6, 16, 5, pad_mode='valid')\n",
    "            self.relu = nn.ReLU()\n",
    "            self.max_pool2d = nn.MaxPool2d(kernel_size=2, stride=2)\n",
    "            self.flatten = nn.Flatten()\n",
    "            self.fc1 = nn.Dense(16 * 5 * 5, 120, weight_init=Normal(0.02))\n",
    "            self.fc2 = nn.Dense(120, 84, weight_init=Normal(0.02))\n",
    "            self.fc3 = nn.Dense(84, num_class, weight_init=Normal(0.02))\n",
    "\n",
    "        def construct(self, x):\n",
    "            x = self.max_pool2d(self.relu(self.conv1(x)))\n",
    "            x = self.max_pool2d(self.relu(self.conv2(x)))\n",
    "            x = self.flatten(x)\n",
    "            x = self.relu(self.fc1(x))\n",
    "            x = self.relu(self.fc2(x))\n",
    "            x = self.fc3(x)\n",
    "            return x\n",
    "\n",
    "    net = LeNet(class_num=10)\n",
    "```"
   ]
  },
  {
   "cell_type": "code",
   "execution_count": null,
   "id": "matched-explanation",
   "metadata": {},
   "outputs": [],
   "source": [
    "net = lenet5(class_num=10)\n",
    "model = Model(net)"
   ]
  },
  {
   "cell_type": "markdown",
   "id": "guided-activation",
   "metadata": {},
   "source": [
    "## 2. 下载数据集\n",
    "\n",
    "如果根目录下没有创建`mnist`文件夹则MNIST数据集会被自动下载并存放到根目录，如果`mnist`文件夹已经存在于根目录 ，则此步操作会被跳过"
   ]
  },
  {
   "cell_type": "code",
   "execution_count": null,
   "id": "laden-slovakia",
   "metadata": {},
   "outputs": [],
   "source": [
    "def create_dataset(data_path, batch_size=32, repeat_size=1,\n",
    "                   num_parallel_workers=1):\n",
    "    \"\"\" create Mnist dataset for train or eval.\n",
    "    Args:\n",
    "        data_path: Data path\n",
    "        batch_size: The number of data records in each group\n",
    "        repeat_size: The number of replicated data records\n",
    "        num_parallel_workers: The number of parallel workers\n",
    "    \"\"\"\n",
    "    # 定义数据集\n",
    "    mnist_ds = MnistDataset(data_path, num_parallel_workers=num_parallel_workers,\n",
    "                            shuffle=True)\n",
    "\n",
    "    # 定义map操作\n",
    "    c_trans = [\n",
    "        Resize((32, 32), interpolation=Inter.LINEAR),  # 尺寸转换到 (32, 32)\n",
    "        Rescale(1 / 0.3081, -1 * 0.1307 / 0.3081),  # normalize images\n",
    "        Rescale(1.0 / 255.0, 0.0),  # rescale images\n",
    "        HWC2CHW(),  # 从HWC格式转换成CHW格式\n",
    "    ]\n",
    "    type_cast_op = TypeCast(ts.int32)  # change data type of label to int32 to fit network\n",
    "\n",
    "    # apply map operations on images\n",
    "    mnist_ds = mnist_ds.map(operations=type_cast_op, input_columns=\"label\", num_parallel_workers=num_parallel_workers)\n",
    "    mnist_ds = mnist_ds.map(operations=c_trans, input_columns=\"image\", num_parallel_workers=num_parallel_workers)\n",
    "    # apply batch operations\n",
    "    mnist_ds = mnist_ds.batch(batch_size, drop_remainder=True)\n",
    "    # apply repeat operations\n",
    "    mnist_ds = mnist_ds.repeat(repeat_size)\n",
    "\n",
    "    return mnist_ds\n",
    "\n",
    "# 下载数据集\n",
    "if not os.path.exists('/root/mnist'):\n",
    "    ts.data.download_dataset('mnist', '/root')\n",
    "else:\n",
    "    print('************Dataset already exists.**************')"
   ]
  },
  {
   "cell_type": "markdown",
   "id": "regulated-bradford",
   "metadata": {},
   "source": [
    "## 3. 训练模型\n",
    "\n",
    "数据集中的训练集、验证集都会在此步骤中定义，同时也会定义训练参数。训练后生成的ckpt文件会保存到`/etc/tinyms/serving/lenet5`文件夹以便后续使用，训练完成后会进行验证并输出 `Accuracy`指标。"
   ]
  },
  {
   "cell_type": "code",
   "execution_count": null,
   "id": "bearing-showcase",
   "metadata": {},
   "outputs": [],
   "source": [
    "# 定义训练和验证集\n",
    "mnist_path = '/root/mnist'\n",
    "batch_size = 32\n",
    "train_dataset = create_dataset(os.path.join(mnist_path, \"train\"), batch_size=batch_size)\n",
    "eval_dataset = create_dataset(os.path.join(mnist_path, \"test\"))\n",
    "\n",
    "# 训练的参数\n",
    "lr = 0.01\n",
    "momentum = 0.9\n",
    "epoch_size = 1\n",
    "net_loss = SoftmaxCrossEntropyWithLogits(sparse=True, reduction='mean')\n",
    "net_opt = opt.Momentum(net.trainable_params(), lr, momentum)\n",
    "net_metrics={\"Accuracy\": Accuracy()}\n",
    "\n",
    "model.compile(loss_fn=net_loss, optimizer=net_opt, metrics=net_metrics)\n",
    "print('************************Start training*************************')\n",
    "model.train(epoch_size, train_dataset)\n",
    "model.save_checkpoint('/etc/tinyms/serving/lenet5/lenet5.ckpt')\n",
    "print('************************Finished training*************************')\n",
    "\n",
    "model.load_checkpoint('/etc/tinyms/serving/lenet5/lenet5.ckpt')\n",
    "print('************************Start evaluation*************************')\n",
    "model.eval(eval_dataset)"
   ]
  },
  {
   "cell_type": "markdown",
   "id": "dramatic-characteristic",
   "metadata": {},
   "source": [
    "## 4. 定义servable.json\n",
    "\n",
    "定义lenet5 servable json文件，Servable json文件定义了servable名称，模型名称，模型格式和分类数量，以便后续推理使用"
   ]
  },
  {
   "cell_type": "code",
   "execution_count": null,
   "id": "raising-ending",
   "metadata": {},
   "outputs": [],
   "source": [
    "servable_json = [{'name': 'lenet5', \n",
    "                  'description': 'This servable hosts a lenet5 model predicting numbers', \n",
    "                  'model': {\n",
    "                      \"name\": \"lenet5\", \n",
    "                      \"format\": \"ckpt\", \n",
    "                      \"class_num\": 10}}]\n",
    "os.chdir(\"/etc/tinyms/serving\")\n",
    "json_data = json.dumps(servable_json, indent=4)\n",
    "\n",
    "with open('servable.json', 'w') as json_file:\n",
    "    json_file.write(json_data)"
   ]
  },
  {
   "cell_type": "markdown",
   "id": "sustained-matthew",
   "metadata": {},
   "source": [
    "## 5. 启动服务器\n",
    "\n",
    "### 5.1 介绍\n",
    "TinyMS推理是C/S（Client/Server）架构。TinyMS使用[Flask](https://flask.palletsprojects.com/en/1.1.x/)这个轻量化的网页服务器架构作为C/S通讯的基础架构。为了能够对模型进行推理，用户必须首先启动服务器。如果成功启动，服务器端会监听从地址127.0.0.1，端口号5000发送来的POST请求并且使用MindSpore作为后端来处理这些请求。后端会构建模型，运行推理并且返回结果给客户端\n",
    "\n",
    "### 5.2 启动服务器\n",
    "\n",
    "运行下列代码以启动服务器："
   ]
  },
  {
   "cell_type": "code",
   "execution_count": null,
   "id": "convinced-theorem",
   "metadata": {},
   "outputs": [],
   "source": [
    "start()"
   ]
  },
  {
   "cell_type": "markdown",
   "id": "crucial-chick",
   "metadata": {},
   "source": [
    "如果用户能够看到类似如下的输出:\n",
    "```\n",
    "* Serving Flask app \"tinyms.serving.server.server\" (lazy loading)\n",
    " * Environment: production\n",
    "   WARNING: This is a development server. Do not use it in a production deployment.\n",
    "   Use a production WSGI server instead.\n",
    " * Debug mode: off\n",
    " * Running on http://127.0.0.1:5000/ (Press CTRL+C to quit)\n",
    "```\n",
    "意味着服务器已经成功启动了，接下来的操作需要到`LeNet5_Client_tutorial_zh.ipynb`文件中完成\n",
    "\n",
    "## 关闭服务器\n",
    "\n",
    "关闭服务器，如果使用终端，可以直接CTRL + C关闭，如果使用Jupyter，点击上方`Kernel`再点击`Shutdown`"
   ]
  }
 ],
 "metadata": {
  "kernelspec": {
   "display_name": "Python 3",
   "language": "python",
   "name": "python3"
  },
  "language_info": {
   "codemirror_mode": {
    "name": "ipython",
    "version": 3
   },
   "file_extension": ".py",
   "mimetype": "text/x-python",
   "name": "python",
   "nbconvert_exporter": "python",
   "pygments_lexer": "ipython3",
   "version": "3.7.5"
  }
 },
 "nbformat": 4,
 "nbformat_minor": 5
}
