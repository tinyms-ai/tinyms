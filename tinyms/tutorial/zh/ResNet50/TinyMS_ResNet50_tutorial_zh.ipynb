{
 "cells": [
  {
   "cell_type": "markdown",
   "id": "mighty-private",
   "metadata": {},
   "source": [
    "# TinyMS ResNet50 教程\n",
    "\n",
    "### 在本教程中，我们会演示获取ResNet50 ckpt文件，使用TinyMS API启动推理服务器和进行推理的过程。\n",
    "\n",
    "## 环境要求\n",
    " - Ubuntu: `18.04`\n",
    " - Python: `3.7.x`\n",
    " - Flask: `1.1.2`\n",
    " - MindSpore: `CPU-1.1.1`\n",
    " - TinyMS: `0.1.0`\n",
    " - numpy: `1.17.5`\n",
    " - opencv-python: `4.5.1.48`\n",
    " - Pillow: `8.1.0`\n",
    " - pip: `21.0.1`\n",
    " - requests: `2.18.4`\n",
    " \n",
    "## 介绍\n",
    "\n",
    "TinyMS是一个高级API，目的是让新手用户能够更加轻松地上手深度学习。TinyMS可以有效地减少用户在构建、训练、验证和推理一个模型过程中的操作次数。TinyMS也提供了教程和文档帮助开发者更好的上手和开发。\n",
    "\n",
    "本教程中，由于使用CPU训练ResNet50模型过于耗时，所以本教程将直接提供训练好的ResNet50 ckpt文件。步骤包含4部分：获取ckpt文件、定义servable json，启动服务器和推理，其中服务器在子进程中启动。\n",
    "\n",
    "\n",
    "## 步骤\n",
    "\n",
    "### 1. 获取ckpt文件\n",
    "\n",
    "本教程提供两个由不同训练集训练而成的ResNet50模型，一个是由[ImageNet2012](http://www.image-net.org/challenges/LSVRC/2012/)数据集训练得来，另一个是由[cifar10](http://www.cs.toronto.edu/~kriz/cifar.html)数据集训练得来。启动服务器的前提条件是需要ResNet50 ckpt文件，可以点击[resnet_imagenet](https://ascend-tutorials.obs.cn-north-4.myhuaweicloud.com:443/resnet-50/ckpt_files/imagenet2012/resnet50.ckpt?AccessKeyId=HUXAJ6GDDQV6E9JLVZRG&Expires=1645083010&Signature=UmcUjCyDs/0jPRJCWu2e8xS5ooc%3D)下载ResNet50_imagenet ckpt文件，或者点击[resnet_cifar](https://ascend-tutorials.obs.cn-north-4.myhuaweicloud.com:443/resnet-50/ckpt_files/cifar10/resnet50.ckpt?AccessKeyId=HUXAJ6GDDQV6E9JLVZRG&Expires=1645083487&Signature=XUPGdTwctaw%2Bep04W3Bo4qxQYG0%3D)下载ResNet50_cifar ckpt文件\n",
    "\n",
    "\n",
    "将ckpt文件保存到`/etc/tinyms/serving/resnet50_<dataset_name>/resnet50.ckpt`\n",
    "\n",
    "### 2. 定义servable.json\n",
    "\n",
    "定义servable json文件，servable json文件定义了servable名称，模型名称，模型格式和分类数量，以便后续推理使用。在该步骤中，将演示推理`ResNet50_imagenet2012`模型"
   ]
  },
  {
   "cell_type": "code",
   "execution_count": null,
   "id": "literary-nigeria",
   "metadata": {},
   "outputs": [],
   "source": [
    "import os\n",
    "import json\n",
    "import subprocess\n",
    "from tinyms.serving import start_server, predict, list_servables\n",
    "\n",
    "\n",
    "servable_json = [{'name': 'resnet50_imagenet2012', \n",
    "                  'description': 'This servable hosts a resnet50 model predicting mushrooms', \n",
    "                  'model': {\n",
    "                      \"name\": \"resnet50\", \n",
    "                      \"format\": \"ckpt\", \n",
    "                      \"class_num\": 9}}]\n",
    "os.chdir(\"/etc/tinyms/serving\")\n",
    "json_data = json.dumps(servable_json, indent=4)\n",
    "\n",
    "with open('servable.json', 'w') as json_file:\n",
    "    json_file.write(json_data)"
   ]
  },
  {
   "cell_type": "markdown",
   "id": "architectural-capital",
   "metadata": {},
   "source": [
    "如果用户想要运行`ResNet50_cifar10`模型，将上述代码中的`servable_json`字段替换成如下代码段：\n",
    "```\n",
    "servable_json = [{'name': 'resnet50_cifar10', \n",
    "                  'description': 'This servable hosts a resnet50 model predicting 10 classes of objects', \n",
    "                  'model': {\n",
    "                      \"name\": \"resnet50\", \n",
    "                      \"format\": \"ckpt\", \n",
    "                      \"class_num\": 10}}]\n",
    "```\n",
    "并且请确保在修改servable后重新运行代码。"
   ]
  },
  {
   "cell_type": "markdown",
   "id": "magnetic-jesus",
   "metadata": {},
   "source": [
    "### 3. 启动服务器\n",
    "\n",
    "#### 3.1 介绍\n",
    "TinyMS推理是C/S（Client/Server）架构。TinyMS使用[Flask](https://flask.palletsprojects.com/en/1.1.x/)这个轻量化的网页服务器架构作为C/S通讯的基础架构。为了能够对模型进行推理，用户必须首先启动服务器。如果成功启动，服务器会在子进程中运行并且会监听从地址127.0.0.1，端口号5000发送来的POST请求并且使用MindSpore作为后端来处理这些请求。后端会构建模型，运行推理并且返回结果给客户端\n",
    "\n",
    "#### 3.2 启动服务器\n",
    "运行下列代码以启动服务器："
   ]
  },
  {
   "cell_type": "code",
   "execution_count": null,
   "id": "joined-taxation",
   "metadata": {},
   "outputs": [],
   "source": [
    "cmd = ['/bin/bash', '-C', 'python', 'from tinyms.serving import start_server', 'start_server()']\n",
    "server_process = subprocess.Popen(cmd,stdout=subprocess.PIPE,shell=True)"
   ]
  },
  {
   "cell_type": "markdown",
   "id": "nasty-converter",
   "metadata": {},
   "source": [
    "### 4. 推理\n",
    "\n",
    "#### 4.1 上传图片\n",
    "\n",
    "`ResNet50_imagenet2012`模型需要用户上传一张蘑菇图片作为输入，而`ResNet50_cifar10`模型需要用户上传一张属于如下10个类别的图片作为输入：`['airplane', 'automobile', 'bird', 'cat', 'deer', 'dog', 'frog', 'horse', 'ship', 'truck']`。点击[蘑菇](http://5b0988e595225.cdn.sohucs.com/images/20180615/cb4b7f551e6e4bbaa99ae7e4c0e6f6a3.jpeg)下载本教程中使用的蘑菇图片以运行`ResNet50_imagenet2012`，或者点击[飞机](https://www.in-vendita.it/sh-img/US_Navy_051105-F-5480T-005_An_F-14D_Tomcat_conducts_a_mission_over_the_Persian_Gulf-region_f14%2Btomcat.jpg)以运行`ResNet50_cifar10`。上传图片，如果使用命令行终端，可以使用'scp'或者'wget'获取图片，如果使用Jupyter，点击菜单右上方的'Upload'按钮并且选择上传的图片。\n",
    "\n",
    "将图片保存在根目录下，重命名为'mushroom.jpeg'或者'airplane.jpg'\n",
    "\n",
    "#### 4.2 List servables\n",
    "\n",
    "使用`list_servables`函数检查当前后端的serving模型"
   ]
  },
  {
   "cell_type": "code",
   "execution_count": null,
   "id": "received-expense",
   "metadata": {},
   "outputs": [],
   "source": [
    "list_servables()"
   ]
  },
  {
   "cell_type": "markdown",
   "id": "natural-sensitivity",
   "metadata": {},
   "source": [
    "如果输出的`description`字段显示这是一个`resnet50_imagenet2012`的模型，则可以继续到下一步发送推理请求，否则如果是`resnet50_cifar10`，需要将接下来的`predict`代码段替换成代码块下方教程处的代码"
   ]
  },
  {
   "cell_type": "markdown",
   "id": "alternative-morris",
   "metadata": {},
   "source": [
    "#### 4.3 发送推理请求\n",
    "\n",
    "运行`predict`函数发送推理请求，第4个参数选择`TOP1_CLASS`或`TOP5_CLASS`以指定输出策略:"
   ]
  },
  {
   "cell_type": "code",
   "execution_count": null,
   "id": "reported-gather",
   "metadata": {},
   "outputs": [],
   "source": [
    "# predict(image_path, servable_name, dataset, topk_strategy)\n",
    "# predict方法的4个参数分别是图片路径、servable名称，数据集名称（默认MNIST，此处需手动指定）和输出策略\n",
    "predict(\"/root/mushroom.jpeg\", \"resnet50_imagenet2012\", \"imagenet2012\", \"TOP1_CLASS\")"
   ]
  },
  {
   "cell_type": "markdown",
   "id": "spoken-product",
   "metadata": {},
   "source": [
    "如果用户想要运行`ResNet50_cifar10`， 将上方代码替换成如下：\n",
    "```\n",
    "predict(\"/root/airplane.jpg\", \"resnet50_cifar10\", \"cifar10\", \"TOP1_CLASS\")\n",
    "```"
   ]
  },
  {
   "cell_type": "markdown",
   "id": "large-links",
   "metadata": {},
   "source": [
    "## 检查输出\n",
    "\n",
    "如果用户运行`ResNet50_imagenet2012`且能看到类似如下输出:  \n",
    "```\n",
    "{'prediction: ': 'Amanita毒蝇伞,伞菌目,鹅膏菌科,鹅膏菌属,主要分布于我国黑龙江、吉林、四川、西藏、云南等地,有毒', 'score': '0.99119007587432861328'}\n",
    "```\n",
    "那么意味着已经进行了一次成功的推理\n",
    "\n",
    "如果用户运行`ResNet50_cifar10`，输出应该类似于：\n",
    "```\n",
    "{'prediction: ': 'airplane', 'score': '0.99997282028198242188'}\n",
    "```"
   ]
  },
  {
   "cell_type": "markdown",
   "id": "invalid-thumb",
   "metadata": {},
   "source": [
    "## 关闭服务器\n",
    "\n",
    "重启服务器并使用另一种模型，点击左上方`Kernel`，再点击`Restart & Clear Output`，并替换`servable_json`代码段\n",
    "\n",
    "关闭服务器，如果使用终端，可以直接CTRL + C关闭，如果使用Jupyter，点击上方`Kernel`再点击`Shutdown`"
   ]
  }
 ],
 "metadata": {
  "kernelspec": {
   "display_name": "Python 3",
   "language": "python",
   "name": "python3"
  },
  "language_info": {
   "codemirror_mode": {
    "name": "ipython",
    "version": 3
   },
   "file_extension": ".py",
   "mimetype": "text/x-python",
   "name": "python",
   "nbconvert_exporter": "python",
   "pygments_lexer": "ipython3",
   "version": "3.7.5"
  }
 },
 "nbformat": 4,
 "nbformat_minor": 5
}
