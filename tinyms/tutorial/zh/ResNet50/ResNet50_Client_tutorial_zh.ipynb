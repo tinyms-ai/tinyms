{
 "cells": [
  {
   "cell_type": "markdown",
   "id": "coral-university",
   "metadata": {},
   "source": [
    "# TinyMS ResNet50 客户端教程\n",
    "\n",
    "### 在本教程中，我们会演示使用TinyMS API发送推理请求到ResNet50的服务器并且得到推理结果的过程。在开始本教程之前，必须确保ResNet50的服务器已经启动，可以参考`ResNet50_Server_tutorial_zh.ipynb`文件。\n",
    "\n",
    "\n",
    "## 步骤\n",
    "\n",
    "### 1. 上传图片\n",
    "\n",
    "在本教程中，服务器端会运行一个由imagenet2012数据集训练而成的ResNet50模型。用户需要上传一张毒蘑菇图片作为输入。如果使用命令行终端，可以使用'scp'或者'wget'获取图片，如果使用Jupyter，点击菜单右上方的'Upload'按钮并且选择上传的图片。本教程中使用的图片可以点击[这里](http://5b0988e595225.cdn.sohucs.com/images/20180615/cb4b7f551e6e4bbaa99ae7e4c0e6f6a3.jpeg)进行下载。\n",
    "\n",
    "将图片保存在根目录下，重命名为'mushroom.jpeg'\n",
    "\n",
    "### 2. List servables\n",
    "\n",
    "使用`list_servables`函数检查当前后端的serving模型"
   ]
  },
  {
   "cell_type": "code",
   "execution_count": null,
   "id": "continuous-status",
   "metadata": {},
   "outputs": [],
   "source": [
    "from tinyms.serving import list_servables, predict\n",
    "\n",
    "list_servables()"
   ]
  },
  {
   "cell_type": "markdown",
   "id": "expired-advertising",
   "metadata": {},
   "source": [
    "如果输出的`description`字段显示这是一个resnet50的模型，则可以继续到下一步发送推理请求"
   ]
  },
  {
   "cell_type": "markdown",
   "id": "immediate-patient",
   "metadata": {},
   "source": [
    "### 3. 发送推理请求\n",
    "\n",
    "运行`predict`函数发送推理请求:"
   ]
  },
  {
   "cell_type": "code",
   "execution_count": null,
   "id": "casual-translator",
   "metadata": {},
   "outputs": [],
   "source": [
    "# predict(image_path, servable_name, dataset)\n",
    "# predict方法的三个参数分别是图片路径、servable名称和数据集名称（默认MNIST，此处需要手动指定为'imagenet2012'）\n",
    "predict(\"/root/mushroom.jpeg\", \"resnet50\", \"imagenet2012\")"
   ]
  },
  {
   "cell_type": "markdown",
   "id": "colonial-allowance",
   "metadata": {},
   "source": [
    "如果用户能看到如下输出:  \n",
    "```\n",
    "Prediction is: {'label': [1, 7, 5, 0, 4], 'score': [7.153806686401367, 1.7853624820709229, 1.2528517246246338, 0.10148963332176208, -1.459831714630127]}\n",
    "```\n",
    "那么意味着已经进行了一次成功的推理"
   ]
  }
 ],
 "metadata": {
  "kernelspec": {
   "display_name": "Python 3",
   "language": "python",
   "name": "python3"
  },
  "language_info": {
   "codemirror_mode": {
    "name": "ipython",
    "version": 3
   },
   "file_extension": ".py",
   "mimetype": "text/x-python",
   "name": "python",
   "nbconvert_exporter": "python",
   "pygments_lexer": "ipython3",
   "version": "3.7.5"
  }
 },
 "nbformat": 4,
 "nbformat_minor": 5
}
