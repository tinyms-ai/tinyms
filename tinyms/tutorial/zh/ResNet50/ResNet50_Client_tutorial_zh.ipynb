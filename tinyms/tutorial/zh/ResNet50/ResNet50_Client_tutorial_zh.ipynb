{
 "cells": [
  {
   "cell_type": "markdown",
   "id": "coral-university",
   "metadata": {},
   "source": [
    "# TinyMS ResNet50 客户端教程\n",
    "\n",
    "### 在本教程中，我们会演示使用TinyMS API发送推理请求到ResNet50的服务器并且得到推理结果的过程。在开始本教程之前，必须确保ResNet50的服务器已经启动，可以参考`ResNet50_Server_tutorial_zh.ipynb`文件。\n",
    "\n",
    "\n",
    "## 步骤\n",
    "\n",
    "### 1. 上传图片\n",
    "\n",
    "在本教程中，服务器端会运行一个ResNet50模型。`ResNet50_imagenet2012`模型需要用户上传一张蘑菇图片作为输入，而`ResNet50_cifar10`模型需要用户上传一张属于如下10个类别的图片作为输入：`['airplane', 'automobile', 'bird', 'cat', 'deer', 'dog', 'frog', 'horse', 'ship', 'truck']`。点击[蘑菇](http://5b0988e595225.cdn.sohucs.com/images/20180615/cb4b7f551e6e4bbaa99ae7e4c0e6f6a3.jpeg)下载本教程中使用的蘑菇图片以运行`ResNet50_imagenet2012`，或者点击[飞机](https://www.in-vendita.it/sh-img/US_Navy_051105-F-5480T-005_An_F-14D_Tomcat_conducts_a_mission_over_the_Persian_Gulf-region_f14%2Btomcat.jpg)以运行`ResNet50_cifar10`。上传图片，如果使用命令行终端，可以使用'scp'或者'wget'获取图片，如果使用Jupyter，点击菜单右上方的'Upload'按钮并且选择上传的图片。\n",
    "\n",
    "将图片保存在根目录下，重命名为'mushroom.jpeg'或者'airplane.jpg'\n",
    "\n",
    "### 2. List servables\n",
    "\n",
    "使用`list_servables`函数检查当前后端的serving模型"
   ]
  },
  {
   "cell_type": "code",
   "execution_count": null,
   "id": "continuous-status",
   "metadata": {},
   "outputs": [],
   "source": [
    "from tinyms.serving import list_servables, predict\n",
    "\n",
    "list_servables()"
   ]
  },
  {
   "cell_type": "markdown",
   "id": "expired-advertising",
   "metadata": {},
   "source": [
    "如果输出的`description`字段显示这是一个`resnet50_imagenet2012`的模型，则可以继续到下一步发送推理请求，否则如果是`resnet50_cifar10`，需要将接下来的`predict`代码段替换成代码块下方教程处的代码"
   ]
  },
  {
   "cell_type": "markdown",
   "id": "immediate-patient",
   "metadata": {},
   "source": [
    "### 3. 发送推理请求\n",
    "\n",
    "运行`predict`函数发送推理请求，第4个参数选择`TOP1_CLASS`或`TOP5_CLASS`以指定输出策略:"
   ]
  },
  {
   "cell_type": "code",
   "execution_count": null,
   "id": "casual-translator",
   "metadata": {},
   "outputs": [],
   "source": [
    "# predict(image_path, servable_name, dataset, topk_strategy)\n",
    "# predict方法的4个参数分别是图片路径、servable名称，数据集名称（默认MNIST，此处需手动指定）和输出策略\n",
    "predict(\"/root/mushroom.jpeg\", \"resnet50_imagenet2012\", \"imagenet2012\", \"TOP1_CLASS\")"
   ]
  },
  {
   "cell_type": "markdown",
   "id": "empirical-dryer",
   "metadata": {},
   "source": [
    "如果用户想要运行`ResNet50_cifar10`， 将上方代码替换成如下：\n",
    "```\n",
    "predict(\"/root/airplane.jpg\", \"resnet50_cifar10\", \"cifar10\", \"TOP1_CLASS\")\n",
    "```"
   ]
  },
  {
   "cell_type": "markdown",
   "id": "colonial-allowance",
   "metadata": {},
   "source": [
    "### 4. 检查输出\n",
    "\n",
    "如果用户运行`ResNet50_imagenet2012`且能看到类似如下输出:  \n",
    "```\n",
    "{'prediction: ': 'Amanita毒蝇伞,伞菌目,鹅膏菌科,鹅膏菌属,主要分布于我国黑龙江、吉林、四川、西藏、云南等地,有毒', 'score': '0.99119007587432861328'}\n",
    "```\n",
    "那么意味着已经进行了一次成功的推理\n",
    "\n",
    "如果用户运行`ResNet50_cifar10`，输出应该类似于：\n",
    "```\n",
    "{'prediction: ': 'airplane', 'score': '0.99997282028198242188'}\n",
    "```"
   ]
  }
 ],
 "metadata": {
  "kernelspec": {
   "display_name": "Python 3",
   "language": "python",
   "name": "python3"
  },
  "language_info": {
   "codemirror_mode": {
    "name": "ipython",
    "version": 3
   },
   "file_extension": ".py",
   "mimetype": "text/x-python",
   "name": "python",
   "nbconvert_exporter": "python",
   "pygments_lexer": "ipython3",
   "version": "3.7.5"
  }
 },
 "nbformat": 4,
 "nbformat_minor": 5
}
