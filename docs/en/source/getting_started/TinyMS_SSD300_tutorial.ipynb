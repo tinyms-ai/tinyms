{
 "cells": [
  {
   "cell_type": "markdown",
   "id": "dress-charlotte",
   "metadata": {},
   "source": [
    "# TinyMS SSD300 Tutorial\n",
    "\n",
    "### In this tutorial, starting an SSD300 inference server and drawing bounding boxes using TinyMS API will be demonstrated. \n",
    "\n",
    "## Prerequisite\n",
    " - Ubuntu: `18.04`\n",
    " - Python: `3.7.x`\n",
    " - Flask: `1.1.2`\n",
    " - MindSpore: `CPU-1.1.1`\n",
    " - TinyMS: `0.1.0`\n",
    " - numpy: `1.17.5`\n",
    " - opencv-python: `4.5.1.48`\n",
    " - Pillow: `8.1.0`\n",
    " - pip: `21.0.1`\n",
    " - requests: `2.18.4`\n",
    " \n",
    "## Introduction\n",
    "\n",
    "TinyMS is a high-level API which is designed for amateur of deep learning. It minimizes the number of actions of users required to construct, train, evaluate and serve a model. TinyMS also provides tutorials and documentations for developers. \n",
    "\n",
    "In this tutorial, the ckpt files will be provided since training SSD300 on CPU is time consuming, so there are four steps to start a server and making predicts: `get the ckpt files`, `define servable json`, `start the server` and `making predicts` in which the server will be started in a subprocess."
   ]
  },
  {
   "cell_type": "code",
   "execution_count": null,
   "id": "chubby-jacket",
   "metadata": {},
   "outputs": [],
   "source": [
    "import os\n",
    "import json\n",
    "from PIL import Image\n",
    "from tinyms.serving import start_server, predict, list_servables, shutdown, server_started\n",
    "from tinyms.vision import ImageViewer"
   ]
  },
  {
   "cell_type": "markdown",
   "id": "short-lesbian",
   "metadata": {},
   "source": [
    "## Steps\n",
    "\n",
    "### 1. Get the ckpt file\n",
    "\n",
    "In this tutorial, we provide the SSD300 checkpoint file which is trained with [VOC](http://host.robots.ox.ac.uk/pascal/VOC/) dataset. An SSD300 ckpt file is required for the backend to run the prediction. We recommend downloading our pretrained checkpoint file, click [HERE](https://ascend-tutorials.obs.cn-north-4.myhuaweicloud.com/ckpt_files/voc/ssd300.ckpt) to download the ckpt file and save this file to `/etc/tinyms/serving/ssd300/ssd300.ckpt`.\n",
    "\n",
    "### Or run the following code to download and store the ckpt file:"
   ]
  },
  {
   "cell_type": "code",
   "execution_count": null,
   "id": "intermediate-collar",
   "metadata": {},
   "outputs": [],
   "source": [
    "ssd300_ckpt_folder = '/etc/tinyms/serving/ssd300'\n",
    "ssd300_ckpt_path = '/etc/tinyms/serving/ssd300/ssd300.ckpt'\n",
    "\n",
    "if not os.path.exists(ssd300_ckpt_folder):\n",
    "    !mkdir -p  /etc/tinyms/serving/ssd300\n",
    "    !wget -P /etc/tinyms/serving/ssd300 https://ascend-tutorials.obs.cn-north-4.myhuaweicloud.com/ckpt_files/voc/ssd300.ckpt\n",
    "else:\n",
    "    print('ssd300 ckpt folder already exists')\n",
    "    if not os.path.exists(ssd300_ckpt_path):\n",
    "        !wget -P /etc/tinyms/serving/ssd300 https://ascend-tutorials.obs.cn-north-4.myhuaweicloud.com/ckpt_files/voc/ssd300.ckpt\n",
    "    else:\n",
    "        print('ssd300 ckpt file already exists')"
   ]
  },
  {
   "cell_type": "markdown",
   "id": "dried-pledge",
   "metadata": {},
   "source": [
    "### 2. Define servable.json \n",
    "\n",
    "Run this code to define the servable json file for later use:"
   ]
  },
  {
   "cell_type": "code",
   "execution_count": null,
   "id": "legitimate-actor",
   "metadata": {},
   "outputs": [],
   "source": [
    "servable_json = [{'name': 'ssd300', \n",
    "                  'description': 'This servable hosts an ssd300 model predicting bounding boxes', \n",
    "                  'model': {\n",
    "                      \"name\": \"ssd300\", \n",
    "                      \"format\": \"ckpt\", \n",
    "                      \"class_num\": 21}}]\n",
    "os.chdir(\"/etc/tinyms/serving\")\n",
    "json_data = json.dumps(servable_json, indent=4)\n",
    "\n",
    "with open('servable.json', 'w') as json_file:\n",
    "    json_file.write(json_data)"
   ]
  },
  {
   "cell_type": "markdown",
   "id": "exclusive-worcester",
   "metadata": {},
   "source": [
    "### 3. Start server\n",
    "\n",
    "#### 3.1 Introduction\n",
    "TinyMS Serving is a C/S(client/server) structure. There is a server and client. TinyMS using [Flask](https://flask.palletsprojects.com/en/1.1.x/) which is a micro web framework written in python as the C/S communication tool. In order to serve a model, user must start server first. If successfully started, the server will be run in a subprocess and listening to POST requests from 127.0.0.1 port 5000 sent by client and handle the requests using MindSpore backend which will construct the model, run the prediction and send the result back to the client.  \n",
    "\n",
    "#### 3.2 start server\n",
    "Run the following code block to start the server:"
   ]
  },
  {
   "cell_type": "code",
   "execution_count": null,
   "id": "speaking-gravity",
   "metadata": {},
   "outputs": [],
   "source": [
    "start_server()"
   ]
  },
  {
   "cell_type": "markdown",
   "id": "identical-philosophy",
   "metadata": {},
   "source": [
    "### 4. Make predictions\n",
    "\n",
    "#### 4.1 Upload the pic\n",
    "\n",
    "A picture is required to be the input. In this tutorial, the SSD300 ckpt requires a picture containing objects of \n",
    "```\n",
    "['background', 'aeroplane', 'bicycle', 'bird', 'boat', 'bottle', 'bus', 'car', 'cat', 'chair', 'cow', 'diningtable', 'dog', 'horse', 'motorbike', 'person', 'pottedplant', 'sheep', 'sofa', 'train', 'tvmonitor']\n",
    "```\n",
    "Click [HERE](https://ascend-tutorials.obs.cn-north-4.myhuaweicloud.com/tinyms-test-pics/ssd300_test/ssd300_test.jpeg) to download the picture which is used in this tutorial. Upload the pic, if using terminal, either `scp` or `wget` will do, if running in Jupyter, click `Upload` button at the top right and select the picture. Save the picture at the root folder, rename to `ssd300_test.jpeg`(or any name you want).\n",
    "\n",
    "### Or run the following code to download the picture used in this tutorial:"
   ]
  },
  {
   "cell_type": "code",
   "execution_count": null,
   "id": "racial-washington",
   "metadata": {},
   "outputs": [],
   "source": [
    "# download the test pic\n",
    "if not os.path.exists('/root/ssd300_test.jpeg'):\n",
    "    !wget -P /root/ https://ascend-tutorials.obs.cn-north-4.myhuaweicloud.com/tinyms-test-pics/ssd300_test/ssd300_test.jpeg\n",
    "else:\n",
    "    print('ssd300_test.jpeg already exists')"
   ]
  },
  {
   "cell_type": "markdown",
   "id": "architectural-destination",
   "metadata": {},
   "source": [
    "####  4.2 List servables\n",
    "\n",
    "Now, use `list_servables` function to check what model is servable right now."
   ]
  },
  {
   "cell_type": "code",
   "execution_count": null,
   "id": "republican-swimming",
   "metadata": {},
   "outputs": [],
   "source": [
    "list_servables()"
   ]
  },
  {
   "cell_type": "markdown",
   "id": "collective-trick",
   "metadata": {},
   "source": [
    "If the output description shows it is an `ssd300` model, run the following code to predict the bounding boxes"
   ]
  },
  {
   "cell_type": "markdown",
   "id": "liable-venezuela",
   "metadata": {},
   "source": [
    "#### 4.3 Sending request and get the result\n",
    "\n",
    "Run `predict` function and get the result, right now only `TOP1CLASS` strategy is supported for SSD300. Call `ImageViewer.draw` to draw the bounding boxes"
   ]
  },
  {
   "cell_type": "code",
   "execution_count": null,
   "id": "irish-syndication",
   "metadata": {},
   "outputs": [],
   "source": [
    "# set image path and output strategy(only TOP1_CLASS)\n",
    "image_path = \"/root/ssd300_test.jpeg\"\n",
    "strategy = \"TOP1_CLASS\"\n",
    "\n",
    "labels = ['background', \n",
    "          'aeroplane', 'bicycle', 'bird', 'boat', 'bottle', \n",
    "          'bus', 'car', 'cat', 'chair', 'cow', \n",
    "          'diningtable', 'dog', 'horse', 'motorbike', 'person', \n",
    "          'pottedplant', 'sheep', 'sofa', 'train', 'tvmonitor']\n",
    "\n",
    "# predict(image_path, servable_name, dataset_name, strategy)\n",
    "# ImageViewer(img, title)\n",
    "# ImageViewer.draw(predict_result, labels)\n",
    "if server_started() is True:\n",
    "    res = predict(image_path, 'ssd300', 'voc', strategy)\n",
    "    img_viewer = ImageViewer(Image.open(image_path))\n",
    "    img_viewer.draw(res, labels)\n",
    "else:\n",
    "    print(\"Server not started\")"
   ]
  },
  {
   "cell_type": "markdown",
   "id": "lucky-chile",
   "metadata": {},
   "source": [
    "## Check output\n",
    "\n",
    "If the input picture is shown with bounding boxes labeled with object classes and score, that means the prediction is successfully performed."
   ]
  },
  {
   "cell_type": "markdown",
   "id": "central-vampire",
   "metadata": {},
   "source": [
    "## Shutdown server"
   ]
  },
  {
   "cell_type": "code",
   "execution_count": null,
   "id": "cubic-electron",
   "metadata": {},
   "outputs": [],
   "source": [
    "shutdown()"
   ]
  }
 ],
 "metadata": {
  "kernelspec": {
   "display_name": "Python 3",
   "language": "python",
   "name": "python3"
  },
  "language_info": {
   "codemirror_mode": {
    "name": "ipython",
    "version": 3
   },
   "file_extension": ".py",
   "mimetype": "text/x-python",
   "name": "python",
   "nbconvert_exporter": "python",
   "pygments_lexer": "ipython3",
   "version": "3.7.5"
  }
 },
 "nbformat": 4,
 "nbformat_minor": 5
}
