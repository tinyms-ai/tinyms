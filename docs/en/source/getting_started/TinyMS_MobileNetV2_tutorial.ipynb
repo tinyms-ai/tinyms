{
 "cells": [
  {
   "cell_type": "markdown",
   "id": "joint-financing",
   "metadata": {},
   "source": [
    "# TinyMS MobileNetV2 Tutorial\n",
    "\n",
    "### In this tutorial, starting a MobileNetV2 inference server and making predictions using TinyMS API will be demonstrated. \n",
    "\n",
    "## Prerequisite\n",
    " - Ubuntu: `18.04`\n",
    " - Python: `3.7.x`\n",
    " - Flask: `1.1.2`\n",
    " - MindSpore: `CPU-1.1.1`\n",
    " - TinyMS: `0.1.0`\n",
    " - numpy: `1.17.5`\n",
    " - opencv-python: `4.5.1.48`\n",
    " - Pillow: `8.1.0`\n",
    " - pip: `21.0.1`\n",
    " - requests: `2.18.4`\n",
    " \n",
    "## Introduction\n",
    "\n",
    "TinyMS is a high-level API which is designed for amateur of deep learning. It minimizes the number of actions of users required to construct, train, evaluate and serve a model. TinyMS also provides tutorials and documentations for developers. \n",
    "\n",
    "In this tutorial, the ckpt file will be provided since training MobileNetV2 on CPU is time consuming, so there are four steps to start a server and making predicts: `get the ckpt files`, `define servable json`, `start the server` and `making predicts` in which the server will be started in a subprocess."
   ]
  },
  {
   "cell_type": "code",
   "execution_count": null,
   "id": "seven-pride",
   "metadata": {},
   "outputs": [],
   "source": [
    "import os\n",
    "import json\n",
    "from PIL import Image\n",
    "from tinyms.serving import start_server, predict, list_servables, shutdown, server_started"
   ]
  },
  {
   "cell_type": "markdown",
   "id": "electric-ethiopia",
   "metadata": {},
   "source": [
    "## Steps\n",
    "\n",
    "### 1. Get the ckpt file\n",
    "\n",
    "In this tutorial, we provide a MobileNetV2 checkpoint file which is trained with [cifar10](http://www.cs.toronto.edu/~kriz/cifar.html) dataset. This ckpt file is required for the backend to run the prediction. We recommend downloading our pretrained checkpoint file, click [HERE](https://ascend-tutorials.obs.cn-north-4.myhuaweicloud.com/ckpt_files/cifar10/mobilenetv2.ckpt) to download MobileNetV2 ckpt file and save this file to `/etc/tinyms/serving/mobilenetv2/mobilenetv2.ckpt`.\n",
    "\n",
    "### Or run the following code to download and store the ckpt file:"
   ]
  },
  {
   "cell_type": "code",
   "execution_count": null,
   "id": "changed-british",
   "metadata": {},
   "outputs": [],
   "source": [
    "mobilenetv2_ckpt_folder = '/etc/tinyms/serving/mobilenetv2'\n",
    "mobilenetv2_ckpt_path = '/etc/tinyms/serving/mobilenetv2/mobilenetv2.ckpt'\n",
    "\n",
    "if not os.path.exists(mobilenetv2_ckpt_folder):\n",
    "    !mkdir -p  /etc/tinyms/serving/mobilenetv2\n",
    "    !wget -P /etc/tinyms/serving/mobilenetv2 https://ascend-tutorials.obs.cn-north-4.myhuaweicloud.com/ckpt_files/cifar10/mobilenetv2.ckpt\n",
    "else:\n",
    "    print('mobilenetv2 ckpt folder already exists')\n",
    "    if not os.path.exists(mobilenetv2_ckpt_path):\n",
    "        !wget -P /etc/tinyms/serving/ssd300 https://ascend-tutorials.obs.cn-north-4.myhuaweicloud.com/ckpt_files/cifar10/mobilenetv2.ckpt\n",
    "    else:\n",
    "        print('mobilenetv2 ckpt file already exists')"
   ]
  },
  {
   "cell_type": "markdown",
   "id": "bacterial-prefix",
   "metadata": {},
   "source": [
    "### 2. Define servable.json\n",
    "\n",
    "Define the MobileNetV2 servable json file for model name, format and number of classes for later use."
   ]
  },
  {
   "cell_type": "code",
   "execution_count": null,
   "id": "legitimate-methodology",
   "metadata": {},
   "outputs": [],
   "source": [
    "servable_json = [{'name': 'mobilenetv2', \n",
    "                  'description': 'This servable hosts a mobilenetv2 model predicting 10 classes of objects', \n",
    "                  'model': {\n",
    "                      \"name\": \"mobilenetv2\", \n",
    "                      \"format\": \"ckpt\", \n",
    "                      \"class_num\": 10}}]\n",
    "os.chdir(\"/etc/tinyms/serving\")\n",
    "json_data = json.dumps(servable_json, indent=4)\n",
    "\n",
    "with open('servable.json', 'w') as json_file:\n",
    "    json_file.write(json_data)"
   ]
  },
  {
   "cell_type": "markdown",
   "id": "objective-platinum",
   "metadata": {},
   "source": [
    "### 3. Start server\n",
    "\n",
    "#### 3.1 Introduction\n",
    "TinyMS Serving is a C/S(client/server) structure. There is a server and client. TinyMS using [Flask](https://flask.palletsprojects.com/en/1.1.x/) which is a micro web framework written in python as the C/S communication tool. In order to serve a model, user must start server first. If successfully started, the server will be run in a subprocess and listening to POST requests from 127.0.0.1 port 5000 sent by client and handle the requests using MindSpore backend which will construct the model, run the prediction and send the result back to the client.  \n",
    "\n",
    "#### 3.2 start server\n",
    "Run the following code block to start the server:"
   ]
  },
  {
   "cell_type": "code",
   "execution_count": null,
   "id": "entitled-importance",
   "metadata": {},
   "outputs": [],
   "source": [
    "start_server()"
   ]
  },
  {
   "cell_type": "markdown",
   "id": "virtual-growth",
   "metadata": {},
   "source": [
    "### 4. Make predictions\n",
    "\n",
    "#### 4.1 Upload the pic\n",
    "\n",
    "A picture is required to be the input. This ckpt requires a picture containing the following objects:\n",
    "```\n",
    "['airplane', 'automobile', 'bird', 'cat', 'deer', 'dog', 'frog', 'horse', 'ship', 'truck']\n",
    "```\n",
    "Click [airplane](https://ascend-tutorials.obs.cn-north-4.myhuaweicloud.com/tinyms-test-pics/objects/airplane.jpg) to download the picture used in this tutorial. Upload the pic, if using terminal, either `scp` or `wget` will do, if running in Jupyter, click `Upload` button at the top right and select the picture. \n",
    "\n",
    "Save the picture at the root folder, rename to `airplane.jpg`(or any name you want).\n",
    "\n",
    "### Or run the following code to download the picture used in this tutorial"
   ]
  },
  {
   "cell_type": "code",
   "execution_count": null,
   "id": "active-programming",
   "metadata": {},
   "outputs": [],
   "source": [
    "# download the airplane pic\n",
    "if not os.path.exists('/root/airplane.jpg'):\n",
    "    !wget -P /root/ https://ascend-tutorials.obs.cn-north-4.myhuaweicloud.com/tinyms-test-pics/objects/airplane.jpg\n",
    "else:\n",
    "    print('airplane.jpg already exists')"
   ]
  },
  {
   "cell_type": "markdown",
   "id": "ideal-lover",
   "metadata": {},
   "source": [
    "####  4.2 List servables\n",
    "\n",
    "Now, we can use `list_servables` function to check what model is servable right now."
   ]
  },
  {
   "cell_type": "code",
   "execution_count": null,
   "id": "circular-blond",
   "metadata": {},
   "outputs": [],
   "source": [
    "list_servables()"
   ]
  },
  {
   "cell_type": "markdown",
   "id": "specific-relief",
   "metadata": {},
   "source": [
    "If the output `description` shows it is a `MobileNetV2` model, then we can continue to next step to send our request."
   ]
  },
  {
   "cell_type": "markdown",
   "id": "fancy-share",
   "metadata": {},
   "source": [
    "#### 4.3 Sending request and get the result\n",
    "\n",
    "Run `predict` function to send the request, select between `TOP1_CLASS` and `TOP5_CLASS` to check the output:"
   ]
  },
  {
   "cell_type": "code",
   "execution_count": null,
   "id": "exposed-salvation",
   "metadata": {},
   "outputs": [],
   "source": [
    "# set image path and output strategy(TOP1_CLASS or TOP5_CLASS)\n",
    "image_path = \"/root/airplane.jpg\"\n",
    "strategy = \"TOP1_CLASS\"\n",
    "\n",
    "# predict(image_path, servable_name, dataset_name, strategy)\n",
    "if server_started() is True:\n",
    "    display(Image.open(image_path).resize((800, 600), Image.ANTIALIAS))\n",
    "    print(predict(image_path, 'mobilenetv2', 'cifar10', strategy))\n",
    "else:\n",
    "    print(\"Server not started\")"
   ]
  },
  {
   "cell_type": "markdown",
   "id": "aggressive-syntax",
   "metadata": {},
   "source": [
    "## Check output\n",
    "\n",
    "If user can see output similar to this:\n",
    "```\n",
    "TOP1: airplane, score: 0.22268821299076080322\n",
    "```\n",
    "that means the prediction result is returned and the inference is completed."
   ]
  },
  {
   "cell_type": "markdown",
   "id": "modern-scope",
   "metadata": {},
   "source": [
    " ## Shutdown server\n",
    " \n",
    "To restart and try another checkpoint file, click `Kernel` at the top, then `Restart & Clear Output`, replace the `servable_json` code and `predict()` function\n",
    " \n",
    "Run the following code to shutdown Flask server:"
   ]
  },
  {
   "cell_type": "code",
   "execution_count": null,
   "id": "inappropriate-tuition",
   "metadata": {},
   "outputs": [],
   "source": [
    "shutdown()"
   ]
  }
 ],
 "metadata": {
  "kernelspec": {
   "display_name": "Python 3",
   "language": "python",
   "name": "python3"
  },
  "language_info": {
   "codemirror_mode": {
    "name": "ipython",
    "version": 3
   },
   "file_extension": ".py",
   "mimetype": "text/x-python",
   "name": "python",
   "nbconvert_exporter": "python",
   "pygments_lexer": "ipython3",
   "version": "3.7.5"
  }
 },
 "nbformat": 4,
 "nbformat_minor": 5
}
