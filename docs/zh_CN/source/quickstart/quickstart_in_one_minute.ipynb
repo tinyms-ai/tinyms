{
 "cells": [
  {
   "cell_type": "markdown",
   "id": "affecting-convenience",
   "metadata": {},
   "source": [
    "# 在一分钟内实现一个图形分类应用\n",
    "\n",
    "在本教程中，我们会演示使用TinyMS API构建LeNet5模型，下载数据集，训练，启动服务器和推理的过程。\n",
    "\n",
    "## 环境要求\n",
    " - Ubuntu: `18.04`\n",
    " - Python: `3.7.x`\n",
    " - Flask: `1.1.2`\n",
    " - MindSpore: `CPU-1.1.1`\n",
    " - TinyMS: `0.1.0`\n",
    " - numpy: `1.17.5`\n",
    " - Pillow: `8.1.0`\n",
    " - pip: `21.0.1`\n",
    " - requests: `2.18.4`\n",
    " \n",
    "## 介绍\n",
    "\n",
    "TinyMS是一个高级API，目的是让新手用户能够更加轻松地上手深度学习。TinyMS可以有效地减少用户在构建、训练、验证和推理一个模型过程中的操作次数。TinyMS也提供了教程和文档帮助开发者更好的上手和开发。\n",
    "\n",
    "本教程包括6部分，`构建模型`、`下载数据集`、`训练`，`定义servable json`, `启动服务器`和`推理`，其中服务器将在一个子进程中启动。"
   ]
  },
  {
   "cell_type": "code",
   "execution_count": 1,
   "id": "phantom-mills",
   "metadata": {},
   "outputs": [
    {
     "name": "stderr",
     "output_type": "stream",
     "text": [
      "[WARNING] ME(12716:140477914756928,MainProcess):2021-03-19-15:58:38.621.652 [mindspore/ops/operations/array_ops.py:2302] WARN_DEPRECATED: The usage of Pack is deprecated. Please use Stack.\n"
     ]
    },
    {
     "name": "stdout",
     "output_type": "stream",
     "text": [
      "WARNING: 'ControlDepend' is deprecated from version 1.1 and will be removed in a future version, use 'Depend' instead.\n"
     ]
    }
   ],
   "source": [
    "import os\n",
    "import json\n",
    "import tinyms.optimizers as opt\n",
    "\n",
    "from PIL import Image\n",
    "from tinyms import context\n",
    "from tinyms.data import MnistDataset, download_dataset\n",
    "from tinyms.vision import mnist_transform, ImageViewer\n",
    "from tinyms.model import Model, lenet5\n",
    "from tinyms.serving import start_server, predict, list_servables, shutdown, server_started\n",
    "from tinyms.metrics import Accuracy\n",
    "from tinyms.losses import SoftmaxCrossEntropyWithLogits\n",
    "from tinyms.callbacks import ModelCheckpoint, CheckpointConfig, LossMonitor"
   ]
  },
  {
   "cell_type": "markdown",
   "id": "aggressive-medline",
   "metadata": {},
   "source": [
    "### 1. 构建模型\n",
    "\n",
    "TinyMS封装了MindSpore LeNet5模型中的init和construct函数，代码行数能够大大减少，原有的大量代码段行数会被极限压缩:"
   ]
  },
  {
   "cell_type": "code",
   "execution_count": 2,
   "id": "matched-explanation",
   "metadata": {},
   "outputs": [],
   "source": [
    "# 构建网络\n",
    "net = lenet5(class_num=10)\n",
    "model = Model(net)"
   ]
  },
  {
   "cell_type": "markdown",
   "id": "guided-activation",
   "metadata": {},
   "source": [
    "### 2. 下载数据集\n",
    "\n",
    "如果根目录下没有创建`mnist`文件夹则MNIST数据集会被自动下载并存放到根目录，如果`mnist`文件夹已经存在于根目录 ，则此步操作会被跳过"
   ]
  },
  {
   "cell_type": "code",
   "execution_count": 3,
   "id": "laden-slovakia",
   "metadata": {},
   "outputs": [
    {
     "name": "stdout",
     "output_type": "stream",
     "text": [
      "************Dataset already exists.**************\n"
     ]
    }
   ],
   "source": [
    "# 下载数据集\n",
    "mnist_path = '/root/mnist'\n",
    "if not os.path.exists(mnist_path):\n",
    "    download_dataset('mnist', '/root')\n",
    "    print('************Download complete*************')\n",
    "else:\n",
    "    print('************Dataset already exists.**************')"
   ]
  },
  {
   "cell_type": "markdown",
   "id": "regulated-bradford",
   "metadata": {},
   "source": [
    "### 3. 训练模型\n",
    "\n",
    "数据集中的训练集、验证集都会在此步骤中定义，同时也会定义训练参数。训练后生成的ckpt文件会保存到`/etc/tinyms/serving/lenet5`文件夹以便后续使用，训练完成后会进行验证并输出 `Accuracy`指标。"
   ]
  },
  {
   "cell_type": "code",
   "execution_count": null,
   "id": "bearing-showcase",
   "metadata": {
    "scrolled": true
   },
   "outputs": [],
   "source": [
    "# 创建mnist路径\n",
    "ckpt_folder = '/etc/tinyms/serving/lenet5'\n",
    "ckpt_path = '/etc/tinyms/serving/lenet5/lenet5.ckpt'\n",
    "if not os.path.exists(ckpt_folder):\n",
    "    !mkdir -p  /etc/tinyms/serving/lenet5\n",
    "else:\n",
    "    print('lenet5 ckpt folder already exists')\n",
    "\n",
    "# 设置环境参数\n",
    "device_target = \"CPU\"\n",
    "context.set_context(mode=context.GRAPH_MODE, device_target=device_target)  \n",
    "dataset_sink_mode = False\n",
    "\n",
    "# 创建数据集\n",
    "train_dataset = MnistDataset(os.path.join(mnist_path, \"train\"), shuffle=True)\n",
    "train_dataset = mnist_transform.apply_ds(train_dataset)\n",
    "eval_dataset = MnistDataset(os.path.join(mnist_path, \"test\"), shuffle=True)\n",
    "eval_dataset = mnist_transform.apply_ds(eval_dataset)\n",
    "\n",
    "# 设置训练参数\n",
    "lr = 0.01\n",
    "momentum = 0.9\n",
    "epoch_size = 1\n",
    "batch_size = 32\n",
    "\n",
    "# 定义loss函数\n",
    "net_loss = SoftmaxCrossEntropyWithLogits(sparse=True, reduction='mean')\n",
    "\n",
    "# 定义optimizer\n",
    "net_opt = opt.Momentum(net.trainable_params(), lr, momentum)\n",
    "net_metrics={\"Accuracy\": Accuracy()}\n",
    "model.compile(loss_fn=net_loss, optimizer=net_opt, metrics=net_metrics)\n",
    "\n",
    "print('************************Start training*************************')\n",
    "ckpoint_cb = ModelCheckpoint(prefix=\"checkpoint_lenet\", config=CheckpointConfig(save_checkpoint_steps=1875, keep_checkpoint_max=10))\n",
    "model.train(epoch_size, train_dataset, callbacks=[ckpoint_cb, LossMonitor()],dataset_sink_mode=dataset_sink_mode)\n",
    "print('************************Finished training*************************')\n",
    "model.save_checkpoint(ckpt_path)\n",
    "\n",
    "\n",
    "model.load_checkpoint(ckpt_path)\n",
    "print('************************Start evaluation*************************')\n",
    "acc = model.eval(eval_dataset, dataset_sink_mode=dataset_sink_mode)\n",
    "print(\"============== Accuracy:{} ==============\".format(acc))"
   ]
  },
  {
   "cell_type": "markdown",
   "id": "dramatic-characteristic",
   "metadata": {},
   "source": [
    "### 4. 定义servable.json\n",
    "\n",
    "定义lenet5 servable json文件，Servable json文件定义了servable名称，模型名称，模型格式和分类数量，以便后续推理使用"
   ]
  },
  {
   "cell_type": "code",
   "execution_count": 5,
   "id": "raising-ending",
   "metadata": {},
   "outputs": [],
   "source": [
    "servable_json = [{'name': 'lenet5', \n",
    "                  'description': 'This servable hosts a lenet5 model predicting numbers', \n",
    "                  'model': {\n",
    "                      \"name\": \"lenet5\", \n",
    "                      \"format\": \"ckpt\", \n",
    "                      \"class_num\": 10}}]\n",
    "os.chdir(\"/etc/tinyms/serving\")\n",
    "json_data = json.dumps(servable_json, indent=4)\n",
    "\n",
    "with open('servable.json', 'w') as json_file:\n",
    "    json_file.write(json_data)"
   ]
  },
  {
   "cell_type": "markdown",
   "id": "sustained-matthew",
   "metadata": {},
   "source": [
    "### 5. 启动服务器\n",
    "\n",
    "#### 5.1 介绍\n",
    "TinyMS推理是C/S（Client/Server）架构。TinyMS使用[Flask](https://flask.palletsprojects.com/en/1.1.x/)这个轻量化的网页服务器架构作为C/S通讯的基础架构。为了能够对模型进行推理，用户必须首先启动服务器。如果成功启动，服务器会在子进程中运行并且会监听从地址127.0.0.1，端口号5000发送来的POST请求并且使用MindSpore作为后端来处理这些请求。后端会构建模型，运行推理并且返回结果给客户端\n",
    "\n",
    "#### 5.2 启动服务器\n",
    "\n",
    "运行下列代码以启动服务器："
   ]
  },
  {
   "cell_type": "code",
   "execution_count": 6,
   "id": "convinced-theorem",
   "metadata": {},
   "outputs": [
    {
     "name": "stdout",
     "output_type": "stream",
     "text": [
      "Server starts at host 127.0.0.1, port 5000\n"
     ]
    }
   ],
   "source": [
    "start_server()"
   ]
  },
  {
   "cell_type": "markdown",
   "id": "european-wallpaper",
   "metadata": {},
   "source": [
    "### 6. 推理\n",
    "\n",
    "#### 6.1 上传图片\n",
    "\n",
    "用户需要上传一张0~9之间的数字图片作为输入。如果使用命令行终端，可以使用'scp'或者'wget'获取图片，如果使用Jupyter，点击菜单右上方的'Upload'按钮并且选择上传的图片。本教程中使用的图片可以点击[这里](https://ascend-tutorials.obs.cn-north-4.myhuaweicloud.com/tinyms-test-pics/numbers/7.png)进行下载，将图片保存在根目录下，重命名为'7.png'（或者任何用户喜欢的名字）\n",
    "\n",
    "或者运行如下的代码下载图片："
   ]
  },
  {
   "cell_type": "code",
   "execution_count": 7,
   "id": "activated-schema",
   "metadata": {},
   "outputs": [
    {
     "name": "stdout",
     "output_type": "stream",
     "text": [
      "--2021-03-19 15:59:11--  https://ascend-tutorials.obs.cn-north-4.myhuaweicloud.com/tinyms-test-pics/numbers/7.png\n",
      "Resolving ascend-tutorials.obs.cn-north-4.myhuaweicloud.com (ascend-tutorials.obs.cn-north-4.myhuaweicloud.com)... 49.4.112.5, 49.4.112.90, 49.4.112.113, ...\n",
      "Connecting to ascend-tutorials.obs.cn-north-4.myhuaweicloud.com (ascend-tutorials.obs.cn-north-4.myhuaweicloud.com)|49.4.112.5|:443... connected.\n",
      "HTTP request sent, awaiting response... 200 OK\n",
      "Length: 34970 (34K) [image/png]\n",
      "Saving to: ‘/root/7.png’\n",
      "\n",
      "7.png               100%[===================>]  34.15K  --.-KB/s    in 0.09s   \n",
      "\n",
      "2021-03-19 15:59:12 (371 KB/s) - ‘/root/7.png’ saved [34970/34970]\n",
      "\n"
     ]
    }
   ],
   "source": [
    "if not os.path.exists('/root/7.png'):\n",
    "    !wget -P /root/ https://ascend-tutorials.obs.cn-north-4.myhuaweicloud.com/tinyms-test-pics/numbers/7.png\n",
    "else:\n",
    "    print('7.png already exists')"
   ]
  },
  {
   "cell_type": "markdown",
   "id": "convertible-timer",
   "metadata": {},
   "source": [
    "#### 6.2 List servables\n",
    "\n",
    "使用`list_servables`函数检查当前后端的serving模型"
   ]
  },
  {
   "cell_type": "code",
   "execution_count": 8,
   "id": "satisfactory-windows",
   "metadata": {},
   "outputs": [
    {
     "data": {
      "text/plain": [
       "[{'description': 'This servable hosts a lenet5 model predicting numbers',\n",
       "  'model': {'class_num': 10, 'format': 'ckpt', 'name': 'lenet5'},\n",
       "  'name': 'lenet5'}]"
      ]
     },
     "execution_count": 8,
     "metadata": {},
     "output_type": "execute_result"
    }
   ],
   "source": [
    "list_servables()"
   ]
  },
  {
   "cell_type": "markdown",
   "id": "optional-transsexual",
   "metadata": {},
   "source": [
    "如果输出的`description`字段显示这是一个`lenet5`的模型，则可以继续到下一步发送推理请求"
   ]
  },
  {
   "cell_type": "markdown",
   "id": "commercial-consensus",
   "metadata": {},
   "source": [
    "#### 6.3 发送推理请求\n",
    "\n",
    "运行`predict`函数发送推理请求，第4个参数选择`TOP1_CLASS`或者`TOP5_CLASS`输出:"
   ]
  },
  {
   "cell_type": "code",
   "execution_count": 9,
   "id": "breeding-economics",
   "metadata": {},
   "outputs": [
    {
     "data": {
      "image/png": "[encoded data removed]",
      "text/plain": [
       "<Figure size 1152x720 with 1 Axes>"
      ]
     },
     "metadata": {
      "needs_background": "light"
     },
     "output_type": "display_data"
    },
    {
     "name": "stdout",
     "output_type": "stream",
     "text": [
      "TOP1: 7, score: 0.99943381547927856445\n"
     ]
    }
   ],
   "source": [
    "# 设置图片路径和输出策略（可以在TOP1和TOP5中选择）\n",
    "image_path = \"/root/7.png\"\n",
    "strategy = \"TOP1_CLASS\"\n",
    "\n",
    "# predict(image_path, servable_name, dataset='mnist', strategy='TOP1_CLASS')\n",
    "# predict方法的四个参数分别是图片路径、servable名称，数据集名称（默认MNIST）和输出策略（默认输出TOP1，可以选择TOP5）\n",
    "if server_started() is True:\n",
    "    img_viewer = ImageViewer(Image.open(image_path), image_path)\n",
    "    img_viewer.show()\n",
    "    print(predict(image_path,'lenet5', 'mnist', strategy))\n",
    "else:\n",
    "    print(\"Server not started\")"
   ]
  },
  {
   "cell_type": "markdown",
   "id": "introductory-greenhouse",
   "metadata": {},
   "source": [
    "如果用户能看到类似如下输出:  \n",
    "```\n",
    "TOP1: 7, score: 0.99934917688369750977\n",
    "```  \n",
    "那么意味着已经进行了一次成功的推理"
   ]
  },
  {
   "cell_type": "markdown",
   "id": "crucial-chick",
   "metadata": {},
   "source": [
    "## 关闭服务器\n",
    "\n",
    "运行以下代码关闭服务器："
   ]
  },
  {
   "cell_type": "code",
   "execution_count": 10,
   "id": "touched-africa",
   "metadata": {},
   "outputs": [
    {
     "data": {
      "text/plain": [
       "'Server shutting down...'"
      ]
     },
     "execution_count": 10,
     "metadata": {},
     "output_type": "execute_result"
    }
   ],
   "source": [
    "shutdown()"
   ]
  }
 ],
 "metadata": {
  "kernelspec": {
   "display_name": "Python 3",
   "language": "python",
   "name": "python3"
  },
  "language_info": {
   "codemirror_mode": {
    "name": "ipython",
    "version": 3
   },
   "file_extension": ".py",
   "mimetype": "text/x-python",
   "name": "python",
   "nbconvert_exporter": "python",
   "pygments_lexer": "ipython3",
   "version": "3.7.5"
  }
 },
 "nbformat": 4,
 "nbformat_minor": 5
}
